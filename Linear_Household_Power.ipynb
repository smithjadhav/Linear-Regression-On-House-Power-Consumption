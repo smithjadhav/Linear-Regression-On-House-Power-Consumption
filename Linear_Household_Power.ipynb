{
  "nbformat": 4,
  "nbformat_minor": 0,
  "metadata": {
    "colab": {
      "provenance": []
    },
    "kernelspec": {
      "name": "python3",
      "display_name": "Python 3"
    },
    "language_info": {
      "name": "python"
    }
  },
  "cells": [
    {
      "cell_type": "code",
      "source": [
        "#pip install --upgrade category_encoders\n"
      ],
      "metadata": {
        "id": "AyfsKW5DXiaw"
      },
      "execution_count": null,
      "outputs": []
    },
    {
      "cell_type": "code",
      "source": [
        "from google.colab import drive\n",
        "drive.mount('/content/drive')"
      ],
      "metadata": {
        "id": "YhuWeLv9a4v9",
        "colab": {
          "base_uri": "https://localhost:8080/"
        },
        "outputId": "aeebc70c-9f0d-4ccb-c473-24bc084f632f"
      },
      "execution_count": null,
      "outputs": [
        {
          "output_type": "stream",
          "name": "stdout",
          "text": [
            "Drive already mounted at /content/drive; to attempt to forcibly remount, call drive.mount(\"/content/drive\", force_remount=True).\n"
          ]
        }
      ]
    },
    {
      "cell_type": "markdown",
      "source": [
        "# 1. Import Libraries"
      ],
      "metadata": {
        "id": "Bu-vJhorYJ1m"
      }
    },
    {
      "cell_type": "code",
      "execution_count": null,
      "metadata": {
        "id": "7Uu_4vco6PDq"
      },
      "outputs": [],
      "source": [
        "### Pandas and Numpy\n",
        "import pandas as pd\n",
        "import numpy as np\n",
        "\n",
        "### Visualisation libraries\n",
        "import seaborn as sns\n",
        "import matplotlib.pyplot as plt\n",
        "%matplotlib inline\n",
        "\n",
        "### For Q-Q Plot\n",
        "import scipy.stats as stats\n",
        "\n",
        "### To ignore warnings\n",
        "import warnings\n",
        "warnings.filterwarnings('ignore')\n",
        "\n",
        "### Machine Learning libraries\n",
        "import sklearn\n",
        "from sklearn.model_selection import train_test_split, GridSearchCV\n",
        "from sklearn.preprocessing import StandardScaler\n",
        "from sklearn.preprocessing import OneHotEncoder, StandardScaler\n",
        "from category_encoders.binary import BinaryEncoder\n",
        "from sklearn.compose import ColumnTransformer\n",
        "from sklearn.svm import SVR\n",
        "from sklearn.tree import DecisionTreeRegressor\n",
        "from sklearn.ensemble import RandomForestRegressor, BaggingRegressor, ExtraTreesRegressor, VotingRegressor, AdaBoostRegressor, GradientBoostingRegressor\n",
        "from xgboost import XGBRegressor\n",
        "from sklearn.linear_model import LinearRegression, Lasso, Ridge, ElasticNet\n",
        "from sklearn.metrics import r2_score, mean_absolute_error,mean_squared_error \n",
        "\n",
        "### To be able to see maximum columns on screen\n",
        "pd.set_option('display.max_columns', 500)"
      ]
    },
    {
      "cell_type": "markdown",
      "source": [
        "# 2. Read Dataset"
      ],
      "metadata": {
        "id": "GfWKLSP-YTTa"
      }
    },
    {
      "cell_type": "code",
      "source": [
        "# read the data\n",
        "df=pd.read_csv(r'/content/household_power_consumption.txt',sep=\";\")\n",
        "df.head()"
      ],
      "metadata": {
        "id": "zbYjtrM36Y8H",
        "colab": {
          "base_uri": "https://localhost:8080/",
          "height": 206
        },
        "outputId": "98d3cbaf-cf34-420a-93ac-5079ae0cb265"
      },
      "execution_count": null,
      "outputs": [
        {
          "output_type": "execute_result",
          "data": {
            "text/plain": [
              "         Date      Time Global_active_power Global_reactive_power  Voltage  \\\n",
              "0  16/12/2006  17:24:00               4.216                 0.418  234.840   \n",
              "1  16/12/2006  17:25:00               5.360                 0.436  233.630   \n",
              "2  16/12/2006  17:26:00               5.374                 0.498  233.290   \n",
              "3  16/12/2006  17:27:00               5.388                 0.502  233.740   \n",
              "4  16/12/2006  17:28:00               3.666                 0.528  235.680   \n",
              "\n",
              "  Global_intensity Sub_metering_1 Sub_metering_2  Sub_metering_3  \n",
              "0           18.400          0.000          1.000            17.0  \n",
              "1           23.000          0.000          1.000            16.0  \n",
              "2           23.000          0.000          2.000            17.0  \n",
              "3           23.000          0.000          1.000            17.0  \n",
              "4           15.800          0.000          1.000            17.0  "
            ],
            "text/html": [
              "\n",
              "  <div id=\"df-7fa4a126-4673-4a60-bc9a-78bbc858a66a\">\n",
              "    <div class=\"colab-df-container\">\n",
              "      <div>\n",
              "<style scoped>\n",
              "    .dataframe tbody tr th:only-of-type {\n",
              "        vertical-align: middle;\n",
              "    }\n",
              "\n",
              "    .dataframe tbody tr th {\n",
              "        vertical-align: top;\n",
              "    }\n",
              "\n",
              "    .dataframe thead th {\n",
              "        text-align: right;\n",
              "    }\n",
              "</style>\n",
              "<table border=\"1\" class=\"dataframe\">\n",
              "  <thead>\n",
              "    <tr style=\"text-align: right;\">\n",
              "      <th></th>\n",
              "      <th>Date</th>\n",
              "      <th>Time</th>\n",
              "      <th>Global_active_power</th>\n",
              "      <th>Global_reactive_power</th>\n",
              "      <th>Voltage</th>\n",
              "      <th>Global_intensity</th>\n",
              "      <th>Sub_metering_1</th>\n",
              "      <th>Sub_metering_2</th>\n",
              "      <th>Sub_metering_3</th>\n",
              "    </tr>\n",
              "  </thead>\n",
              "  <tbody>\n",
              "    <tr>\n",
              "      <th>0</th>\n",
              "      <td>16/12/2006</td>\n",
              "      <td>17:24:00</td>\n",
              "      <td>4.216</td>\n",
              "      <td>0.418</td>\n",
              "      <td>234.840</td>\n",
              "      <td>18.400</td>\n",
              "      <td>0.000</td>\n",
              "      <td>1.000</td>\n",
              "      <td>17.0</td>\n",
              "    </tr>\n",
              "    <tr>\n",
              "      <th>1</th>\n",
              "      <td>16/12/2006</td>\n",
              "      <td>17:25:00</td>\n",
              "      <td>5.360</td>\n",
              "      <td>0.436</td>\n",
              "      <td>233.630</td>\n",
              "      <td>23.000</td>\n",
              "      <td>0.000</td>\n",
              "      <td>1.000</td>\n",
              "      <td>16.0</td>\n",
              "    </tr>\n",
              "    <tr>\n",
              "      <th>2</th>\n",
              "      <td>16/12/2006</td>\n",
              "      <td>17:26:00</td>\n",
              "      <td>5.374</td>\n",
              "      <td>0.498</td>\n",
              "      <td>233.290</td>\n",
              "      <td>23.000</td>\n",
              "      <td>0.000</td>\n",
              "      <td>2.000</td>\n",
              "      <td>17.0</td>\n",
              "    </tr>\n",
              "    <tr>\n",
              "      <th>3</th>\n",
              "      <td>16/12/2006</td>\n",
              "      <td>17:27:00</td>\n",
              "      <td>5.388</td>\n",
              "      <td>0.502</td>\n",
              "      <td>233.740</td>\n",
              "      <td>23.000</td>\n",
              "      <td>0.000</td>\n",
              "      <td>1.000</td>\n",
              "      <td>17.0</td>\n",
              "    </tr>\n",
              "    <tr>\n",
              "      <th>4</th>\n",
              "      <td>16/12/2006</td>\n",
              "      <td>17:28:00</td>\n",
              "      <td>3.666</td>\n",
              "      <td>0.528</td>\n",
              "      <td>235.680</td>\n",
              "      <td>15.800</td>\n",
              "      <td>0.000</td>\n",
              "      <td>1.000</td>\n",
              "      <td>17.0</td>\n",
              "    </tr>\n",
              "  </tbody>\n",
              "</table>\n",
              "</div>\n",
              "      <button class=\"colab-df-convert\" onclick=\"convertToInteractive('df-7fa4a126-4673-4a60-bc9a-78bbc858a66a')\"\n",
              "              title=\"Convert this dataframe to an interactive table.\"\n",
              "              style=\"display:none;\">\n",
              "        \n",
              "  <svg xmlns=\"http://www.w3.org/2000/svg\" height=\"24px\"viewBox=\"0 0 24 24\"\n",
              "       width=\"24px\">\n",
              "    <path d=\"M0 0h24v24H0V0z\" fill=\"none\"/>\n",
              "    <path d=\"M18.56 5.44l.94 2.06.94-2.06 2.06-.94-2.06-.94-.94-2.06-.94 2.06-2.06.94zm-11 1L8.5 8.5l.94-2.06 2.06-.94-2.06-.94L8.5 2.5l-.94 2.06-2.06.94zm10 10l.94 2.06.94-2.06 2.06-.94-2.06-.94-.94-2.06-.94 2.06-2.06.94z\"/><path d=\"M17.41 7.96l-1.37-1.37c-.4-.4-.92-.59-1.43-.59-.52 0-1.04.2-1.43.59L10.3 9.45l-7.72 7.72c-.78.78-.78 2.05 0 2.83L4 21.41c.39.39.9.59 1.41.59.51 0 1.02-.2 1.41-.59l7.78-7.78 2.81-2.81c.8-.78.8-2.07 0-2.86zM5.41 20L4 18.59l7.72-7.72 1.47 1.35L5.41 20z\"/>\n",
              "  </svg>\n",
              "      </button>\n",
              "      \n",
              "  <style>\n",
              "    .colab-df-container {\n",
              "      display:flex;\n",
              "      flex-wrap:wrap;\n",
              "      gap: 12px;\n",
              "    }\n",
              "\n",
              "    .colab-df-convert {\n",
              "      background-color: #E8F0FE;\n",
              "      border: none;\n",
              "      border-radius: 50%;\n",
              "      cursor: pointer;\n",
              "      display: none;\n",
              "      fill: #1967D2;\n",
              "      height: 32px;\n",
              "      padding: 0 0 0 0;\n",
              "      width: 32px;\n",
              "    }\n",
              "\n",
              "    .colab-df-convert:hover {\n",
              "      background-color: #E2EBFA;\n",
              "      box-shadow: 0px 1px 2px rgba(60, 64, 67, 0.3), 0px 1px 3px 1px rgba(60, 64, 67, 0.15);\n",
              "      fill: #174EA6;\n",
              "    }\n",
              "\n",
              "    [theme=dark] .colab-df-convert {\n",
              "      background-color: #3B4455;\n",
              "      fill: #D2E3FC;\n",
              "    }\n",
              "\n",
              "    [theme=dark] .colab-df-convert:hover {\n",
              "      background-color: #434B5C;\n",
              "      box-shadow: 0px 1px 3px 1px rgba(0, 0, 0, 0.15);\n",
              "      filter: drop-shadow(0px 1px 2px rgba(0, 0, 0, 0.3));\n",
              "      fill: #FFFFFF;\n",
              "    }\n",
              "  </style>\n",
              "\n",
              "      <script>\n",
              "        const buttonEl =\n",
              "          document.querySelector('#df-7fa4a126-4673-4a60-bc9a-78bbc858a66a button.colab-df-convert');\n",
              "        buttonEl.style.display =\n",
              "          google.colab.kernel.accessAllowed ? 'block' : 'none';\n",
              "\n",
              "        async function convertToInteractive(key) {\n",
              "          const element = document.querySelector('#df-7fa4a126-4673-4a60-bc9a-78bbc858a66a');\n",
              "          const dataTable =\n",
              "            await google.colab.kernel.invokeFunction('convertToInteractive',\n",
              "                                                     [key], {});\n",
              "          if (!dataTable) return;\n",
              "\n",
              "          const docLinkHtml = 'Like what you see? Visit the ' +\n",
              "            '<a target=\"_blank\" href=https://colab.research.google.com/notebooks/data_table.ipynb>data table notebook</a>'\n",
              "            + ' to learn more about interactive tables.';\n",
              "          element.innerHTML = '';\n",
              "          dataTable['output_type'] = 'display_data';\n",
              "          await google.colab.output.renderOutput(dataTable, element);\n",
              "          const docLink = document.createElement('div');\n",
              "          docLink.innerHTML = docLinkHtml;\n",
              "          element.appendChild(docLink);\n",
              "        }\n",
              "      </script>\n",
              "    </div>\n",
              "  </div>\n",
              "  "
            ]
          },
          "metadata": {},
          "execution_count": 77
        }
      ]
    },
    {
      "cell_type": "markdown",
      "source": [
        "# 3.Data Inspection"
      ],
      "metadata": {
        "id": "wRnHP9QBYfXt"
      }
    },
    {
      "cell_type": "code",
      "source": [
        "print(df.dtypes)  #data types of variables\n",
        "print(df.shape)   #dimension of data in rows & cols\n",
        "print(df.describe())  #identify any patterns or relationships between the variables"
      ],
      "metadata": {
        "id": "E6Nc3w496lOU",
        "colab": {
          "base_uri": "https://localhost:8080/"
        },
        "outputId": "e7795560-a9dd-4435-f37c-a6705ac60b0b"
      },
      "execution_count": null,
      "outputs": [
        {
          "output_type": "stream",
          "name": "stdout",
          "text": [
            "Date                      object\n",
            "Time                      object\n",
            "Global_active_power       object\n",
            "Global_reactive_power     object\n",
            "Voltage                   object\n",
            "Global_intensity          object\n",
            "Sub_metering_1            object\n",
            "Sub_metering_2            object\n",
            "Sub_metering_3           float64\n",
            "dtype: object\n",
            "(1189153, 9)\n",
            "       Sub_metering_3\n",
            "count    1.185015e+06\n",
            "mean     6.088587e+00\n",
            "std      8.289541e+00\n",
            "min      0.000000e+00\n",
            "25%      0.000000e+00\n",
            "50%      0.000000e+00\n",
            "75%      1.700000e+01\n",
            "max      3.100000e+01\n"
          ]
        }
      ]
    },
    {
      "cell_type": "markdown",
      "source": [
        "#### Checking null values"
      ],
      "metadata": {
        "id": "ypAlrXqNqD2l"
      }
    },
    {
      "cell_type": "code",
      "source": [
        "df.isnull().sum()"
      ],
      "metadata": {
        "id": "OCdz-Gg7SE3h",
        "colab": {
          "base_uri": "https://localhost:8080/"
        },
        "outputId": "d0202446-5d38-4121-9bc5-be59f69f326e"
      },
      "execution_count": null,
      "outputs": [
        {
          "output_type": "execute_result",
          "data": {
            "text/plain": [
              "Date                        0\n",
              "Time                        0\n",
              "Global_active_power         0\n",
              "Global_reactive_power       0\n",
              "Voltage                     0\n",
              "Global_intensity            0\n",
              "Sub_metering_1              0\n",
              "Sub_metering_2              1\n",
              "Sub_metering_3           4138\n",
              "dtype: int64"
            ]
          },
          "metadata": {},
          "execution_count": 79
        }
      ]
    },
    {
      "cell_type": "code",
      "source": [
        "### taking 50,000 samples from original dataset without replacement\n",
        "### reseting the index of records and dropping index \n",
        "data_sample=df.sample(n=50000, replace=False)\n",
        "data_sample=data_sample.reset_index()\n",
        "data_sample.drop('index', axis=1, inplace=True)#Inbuild Index is Dropped and bydefault index is considered.\n",
        "data_sample.head()"
      ],
      "metadata": {
        "id": "kGP6Q-swU2uB",
        "colab": {
          "base_uri": "https://localhost:8080/",
          "height": 206
        },
        "outputId": "7bcb6c92-b1ba-4e8f-ca9f-c94156b9684d"
      },
      "execution_count": null,
      "outputs": [
        {
          "output_type": "execute_result",
          "data": {
            "text/plain": [
              "         Date      Time Global_active_power Global_reactive_power  Voltage  \\\n",
              "0   16/2/2009  01:42:00               0.486                 0.192  244.900   \n",
              "1   17/8/2008  22:31:00               0.154                 0.122  240.890   \n",
              "2   20/5/2008  22:27:00               1.136                 0.136  240.340   \n",
              "3    2/2/2007  03:23:00               0.338                 0.130  243.900   \n",
              "4  20/12/2007  18:20:00               2.460                 0.046  241.190   \n",
              "\n",
              "  Global_intensity Sub_metering_1 Sub_metering_2  Sub_metering_3  \n",
              "0            2.000          0.000          0.000             0.0  \n",
              "1            0.800          0.000          0.000             0.0  \n",
              "2            4.800          0.000          2.000             1.0  \n",
              "3            1.400          0.000          0.000             0.0  \n",
              "4           10.200          0.000          0.000            18.0  "
            ],
            "text/html": [
              "\n",
              "  <div id=\"df-9b7f942d-4b29-49ea-99fb-e83c0ef52c7d\">\n",
              "    <div class=\"colab-df-container\">\n",
              "      <div>\n",
              "<style scoped>\n",
              "    .dataframe tbody tr th:only-of-type {\n",
              "        vertical-align: middle;\n",
              "    }\n",
              "\n",
              "    .dataframe tbody tr th {\n",
              "        vertical-align: top;\n",
              "    }\n",
              "\n",
              "    .dataframe thead th {\n",
              "        text-align: right;\n",
              "    }\n",
              "</style>\n",
              "<table border=\"1\" class=\"dataframe\">\n",
              "  <thead>\n",
              "    <tr style=\"text-align: right;\">\n",
              "      <th></th>\n",
              "      <th>Date</th>\n",
              "      <th>Time</th>\n",
              "      <th>Global_active_power</th>\n",
              "      <th>Global_reactive_power</th>\n",
              "      <th>Voltage</th>\n",
              "      <th>Global_intensity</th>\n",
              "      <th>Sub_metering_1</th>\n",
              "      <th>Sub_metering_2</th>\n",
              "      <th>Sub_metering_3</th>\n",
              "    </tr>\n",
              "  </thead>\n",
              "  <tbody>\n",
              "    <tr>\n",
              "      <th>0</th>\n",
              "      <td>16/2/2009</td>\n",
              "      <td>01:42:00</td>\n",
              "      <td>0.486</td>\n",
              "      <td>0.192</td>\n",
              "      <td>244.900</td>\n",
              "      <td>2.000</td>\n",
              "      <td>0.000</td>\n",
              "      <td>0.000</td>\n",
              "      <td>0.0</td>\n",
              "    </tr>\n",
              "    <tr>\n",
              "      <th>1</th>\n",
              "      <td>17/8/2008</td>\n",
              "      <td>22:31:00</td>\n",
              "      <td>0.154</td>\n",
              "      <td>0.122</td>\n",
              "      <td>240.890</td>\n",
              "      <td>0.800</td>\n",
              "      <td>0.000</td>\n",
              "      <td>0.000</td>\n",
              "      <td>0.0</td>\n",
              "    </tr>\n",
              "    <tr>\n",
              "      <th>2</th>\n",
              "      <td>20/5/2008</td>\n",
              "      <td>22:27:00</td>\n",
              "      <td>1.136</td>\n",
              "      <td>0.136</td>\n",
              "      <td>240.340</td>\n",
              "      <td>4.800</td>\n",
              "      <td>0.000</td>\n",
              "      <td>2.000</td>\n",
              "      <td>1.0</td>\n",
              "    </tr>\n",
              "    <tr>\n",
              "      <th>3</th>\n",
              "      <td>2/2/2007</td>\n",
              "      <td>03:23:00</td>\n",
              "      <td>0.338</td>\n",
              "      <td>0.130</td>\n",
              "      <td>243.900</td>\n",
              "      <td>1.400</td>\n",
              "      <td>0.000</td>\n",
              "      <td>0.000</td>\n",
              "      <td>0.0</td>\n",
              "    </tr>\n",
              "    <tr>\n",
              "      <th>4</th>\n",
              "      <td>20/12/2007</td>\n",
              "      <td>18:20:00</td>\n",
              "      <td>2.460</td>\n",
              "      <td>0.046</td>\n",
              "      <td>241.190</td>\n",
              "      <td>10.200</td>\n",
              "      <td>0.000</td>\n",
              "      <td>0.000</td>\n",
              "      <td>18.0</td>\n",
              "    </tr>\n",
              "  </tbody>\n",
              "</table>\n",
              "</div>\n",
              "      <button class=\"colab-df-convert\" onclick=\"convertToInteractive('df-9b7f942d-4b29-49ea-99fb-e83c0ef52c7d')\"\n",
              "              title=\"Convert this dataframe to an interactive table.\"\n",
              "              style=\"display:none;\">\n",
              "        \n",
              "  <svg xmlns=\"http://www.w3.org/2000/svg\" height=\"24px\"viewBox=\"0 0 24 24\"\n",
              "       width=\"24px\">\n",
              "    <path d=\"M0 0h24v24H0V0z\" fill=\"none\"/>\n",
              "    <path d=\"M18.56 5.44l.94 2.06.94-2.06 2.06-.94-2.06-.94-.94-2.06-.94 2.06-2.06.94zm-11 1L8.5 8.5l.94-2.06 2.06-.94-2.06-.94L8.5 2.5l-.94 2.06-2.06.94zm10 10l.94 2.06.94-2.06 2.06-.94-2.06-.94-.94-2.06-.94 2.06-2.06.94z\"/><path d=\"M17.41 7.96l-1.37-1.37c-.4-.4-.92-.59-1.43-.59-.52 0-1.04.2-1.43.59L10.3 9.45l-7.72 7.72c-.78.78-.78 2.05 0 2.83L4 21.41c.39.39.9.59 1.41.59.51 0 1.02-.2 1.41-.59l7.78-7.78 2.81-2.81c.8-.78.8-2.07 0-2.86zM5.41 20L4 18.59l7.72-7.72 1.47 1.35L5.41 20z\"/>\n",
              "  </svg>\n",
              "      </button>\n",
              "      \n",
              "  <style>\n",
              "    .colab-df-container {\n",
              "      display:flex;\n",
              "      flex-wrap:wrap;\n",
              "      gap: 12px;\n",
              "    }\n",
              "\n",
              "    .colab-df-convert {\n",
              "      background-color: #E8F0FE;\n",
              "      border: none;\n",
              "      border-radius: 50%;\n",
              "      cursor: pointer;\n",
              "      display: none;\n",
              "      fill: #1967D2;\n",
              "      height: 32px;\n",
              "      padding: 0 0 0 0;\n",
              "      width: 32px;\n",
              "    }\n",
              "\n",
              "    .colab-df-convert:hover {\n",
              "      background-color: #E2EBFA;\n",
              "      box-shadow: 0px 1px 2px rgba(60, 64, 67, 0.3), 0px 1px 3px 1px rgba(60, 64, 67, 0.15);\n",
              "      fill: #174EA6;\n",
              "    }\n",
              "\n",
              "    [theme=dark] .colab-df-convert {\n",
              "      background-color: #3B4455;\n",
              "      fill: #D2E3FC;\n",
              "    }\n",
              "\n",
              "    [theme=dark] .colab-df-convert:hover {\n",
              "      background-color: #434B5C;\n",
              "      box-shadow: 0px 1px 3px 1px rgba(0, 0, 0, 0.15);\n",
              "      filter: drop-shadow(0px 1px 2px rgba(0, 0, 0, 0.3));\n",
              "      fill: #FFFFFF;\n",
              "    }\n",
              "  </style>\n",
              "\n",
              "      <script>\n",
              "        const buttonEl =\n",
              "          document.querySelector('#df-9b7f942d-4b29-49ea-99fb-e83c0ef52c7d button.colab-df-convert');\n",
              "        buttonEl.style.display =\n",
              "          google.colab.kernel.accessAllowed ? 'block' : 'none';\n",
              "\n",
              "        async function convertToInteractive(key) {\n",
              "          const element = document.querySelector('#df-9b7f942d-4b29-49ea-99fb-e83c0ef52c7d');\n",
              "          const dataTable =\n",
              "            await google.colab.kernel.invokeFunction('convertToInteractive',\n",
              "                                                     [key], {});\n",
              "          if (!dataTable) return;\n",
              "\n",
              "          const docLinkHtml = 'Like what you see? Visit the ' +\n",
              "            '<a target=\"_blank\" href=https://colab.research.google.com/notebooks/data_table.ipynb>data table notebook</a>'\n",
              "            + ' to learn more about interactive tables.';\n",
              "          element.innerHTML = '';\n",
              "          dataTable['output_type'] = 'display_data';\n",
              "          await google.colab.output.renderOutput(dataTable, element);\n",
              "          const docLink = document.createElement('div');\n",
              "          docLink.innerHTML = docLinkHtml;\n",
              "          element.appendChild(docLink);\n",
              "        }\n",
              "      </script>\n",
              "    </div>\n",
              "  </div>\n",
              "  "
            ]
          },
          "metadata": {},
          "execution_count": 80
        }
      ]
    },
    {
      "cell_type": "code",
      "source": [
        "### checking shape of sampled dataset\n",
        "data_sample.shape"
      ],
      "metadata": {
        "id": "wZisdpo6YbbY",
        "colab": {
          "base_uri": "https://localhost:8080/"
        },
        "outputId": "37a13fe1-6464-4680-bda7-01b189f71aac"
      },
      "execution_count": null,
      "outputs": [
        {
          "output_type": "execute_result",
          "data": {
            "text/plain": [
              "(50000, 9)"
            ]
          },
          "metadata": {},
          "execution_count": 81
        }
      ]
    },
    {
      "cell_type": "code",
      "source": [
        "### saving sampled dataset to csv file\n",
        "data_sample.to_csv('sampled_data.csv', index=False)"
      ],
      "metadata": {
        "id": "tjWdQ0skZSwN"
      },
      "execution_count": null,
      "outputs": []
    },
    {
      "cell_type": "code",
      "source": [
        "# find the Unique Values\n",
        "for i in[i for i in data_sample.columns]:\n",
        "    print(i,{i:data_sample[i].unique()})"
      ],
      "metadata": {
        "id": "f-IYZsVUZtQ3",
        "colab": {
          "base_uri": "https://localhost:8080/"
        },
        "outputId": "15ef1f43-608d-47d7-c7da-146c5a5525f9"
      },
      "execution_count": null,
      "outputs": [
        {
          "output_type": "stream",
          "name": "stdout",
          "text": [
            "Date {'Date': array(['16/2/2009', '17/8/2008', '20/5/2008', '2/2/2007', '20/12/2007',\n",
            "       '29/8/2007', '28/4/2007', '19/7/2007', '29/12/2008', '25/12/2007',\n",
            "       '24/9/2007', '6/4/2008', '9/6/2008', '20/1/2007', '1/3/2007',\n",
            "       '21/8/2007', '11/5/2007', '30/8/2008', '3/5/2008', '7/2/2008',\n",
            "       '28/2/2008', '22/4/2007', '24/9/2008', '25/11/2008', '13/8/2007',\n",
            "       '19/9/2007', '27/5/2008', '31/1/2008', '21/1/2008', '3/12/2007',\n",
            "       '17/3/2008', '12/12/2008', '25/4/2008', '8/3/2009', '1/2/2009',\n",
            "       '9/3/2008', '6/3/2008', '8/5/2008', '14/8/2008', '28/8/2008',\n",
            "       '17/9/2007', '18/10/2007', '6/8/2007', '30/11/2007', '7/11/2007',\n",
            "       '10/3/2009', '18/12/2006', '30/6/2008', '27/1/2007', '17/12/2008',\n",
            "       '15/2/2007', '8/6/2007', '3/6/2008', '21/10/2008', '8/7/2008',\n",
            "       '27/2/2007', '5/8/2008', '28/1/2009', '9/1/2008', '19/12/2008',\n",
            "       '28/6/2008', '26/9/2007', '18/10/2008', '31/1/2009', '6/2/2008',\n",
            "       '22/10/2007', '13/2/2008', '2/4/2007', '5/10/2007', '28/12/2008',\n",
            "       '18/7/2008', '29/4/2007', '31/5/2008', '10/10/2008', '9/10/2008',\n",
            "       '6/5/2008', '27/4/2008', '15/8/2007', '22/1/2008', '27/11/2008',\n",
            "       '20/4/2008', '2/10/2007', '24/4/2008', '16/11/2008', '24/10/2008',\n",
            "       '18/3/2007', '19/2/2009', '22/12/2008', '29/2/2008', '24/1/2009',\n",
            "       '28/12/2006', '9/2/2008', '28/11/2008', '13/5/2007', '18/3/2009',\n",
            "       '22/8/2008', '5/11/2008', '19/4/2008', '4/2/2007', '2/12/2008',\n",
            "       '23/7/2007', '8/8/2007', '24/1/2007', '3/3/2007', '22/11/2007',\n",
            "       '23/1/2008', '11/2/2009', '25/9/2007', '2/8/2008', '23/5/2007',\n",
            "       '7/11/2008', '21/2/2007', '2/11/2007', '17/12/2007', '18/12/2007',\n",
            "       '21/5/2008', '5/4/2007', '2/8/2007', '14/3/2007', '25/5/2007',\n",
            "       '27/8/2008', '29/1/2009', '18/3/2008', '23/12/2008', '22/7/2008',\n",
            "       '13/11/2007', '21/12/2008', '30/4/2007', '19/1/2008', '14/11/2007',\n",
            "       '7/2/2007', '27/12/2007', '10/11/2007', '20/12/2008', '17/8/2007',\n",
            "       '6/7/2008', '22/8/2007', '11/6/2007', '19/11/2007', '3/8/2008',\n",
            "       '15/6/2008', '2/10/2008', '14/7/2007', '1/1/2009', '27/9/2008',\n",
            "       '5/2/2007', '29/3/2008', '13/9/2007', '2/7/2008', '20/3/2009',\n",
            "       '28/12/2007', '30/5/2007', '29/1/2008', '22/2/2007', '2/1/2008',\n",
            "       '16/11/2007', '25/4/2007', '30/12/2008', '19/1/2007', '12/11/2008',\n",
            "       '12/10/2007', '6/3/2007', '13/7/2008', '10/3/2008', '30/11/2008',\n",
            "       '16/6/2007', '4/9/2007', '10/3/2007', '6/2/2009', '27/9/2007',\n",
            "       '27/3/2008', '26/2/2007', '12/9/2008', '31/8/2007', '11/7/2008',\n",
            "       '23/6/2008', '26/2/2009', '31/3/2007', '26/5/2008', '15/1/2009',\n",
            "       '14/4/2008', '23/12/2006', '22/9/2008', '24/11/2007', '7/7/2007',\n",
            "       '1/7/2007', '16/8/2008', '18/12/2008', '22/2/2008', '11/11/2008',\n",
            "       '25/1/2009', '2/6/2008', '2/6/2007', '25/11/2007', '20/9/2008',\n",
            "       '28/9/2007', '28/7/2008', '24/1/2008', '11/2/2008', '28/10/2007',\n",
            "       '22/5/2007', '28/5/2008', '26/1/2008', '1/9/2008', '17/10/2008',\n",
            "       '25/5/2008', '22/7/2007', '1/11/2007', '10/4/2008', '30/9/2008',\n",
            "       '30/3/2008', '25/9/2008', '4/4/2008', '13/1/2007', '31/12/2008',\n",
            "       '30/10/2008', '26/6/2008', '19/11/2008', '13/10/2008', '28/9/2008',\n",
            "       '23/1/2007', '26/10/2008', '6/10/2008', '14/3/2009', '23/9/2008',\n",
            "       '17/5/2007', '1/1/2008', '23/4/2007', '11/12/2007', '17/2/2009',\n",
            "       '14/7/2008', '19/6/2007', '5/1/2007', '26/8/2008', '4/11/2008',\n",
            "       '13/4/2008', '10/5/2008', '11/3/2008', '17/3/2007', '3/10/2007',\n",
            "       '13/5/2008', '23/8/2008', '28/6/2007', '22/3/2008', '29/1/2007',\n",
            "       '19/8/2007', '7/6/2008', '14/2/2007', '24/5/2007', '1/2/2007',\n",
            "       '3/11/2008', '24/10/2007', '7/9/2008', '8/11/2007', '3/7/2007',\n",
            "       '9/5/2007', '5/4/2008', '15/10/2008', '5/5/2008', '21/4/2008',\n",
            "       '4/3/2008', '8/4/2008', '3/8/2007', '20/10/2008', '5/3/2008',\n",
            "       '1/2/2008', '13/12/2007', '15/5/2007', '23/5/2008', '12/7/2008',\n",
            "       '5/12/2007', '21/2/2008', '7/2/2009', '6/5/2007', '22/5/2008',\n",
            "       '7/1/2009', '23/3/2007', '20/4/2007', '27/6/2008', '11/3/2009',\n",
            "       '19/1/2009', '14/1/2009', '26/5/2007', '30/1/2007', '16/12/2007',\n",
            "       '17/1/2008', '23/2/2008', '18/9/2008', '11/9/2007', '8/1/2007',\n",
            "       '16/6/2008', '6/8/2008', '18/11/2007', '22/3/2007', '20/5/2007',\n",
            "       '3/6/2007', '14/5/2007', '20/2/2008', '7/12/2008', '4/5/2008',\n",
            "       '6/11/2008', '17/2/2007', '4/2/2008', '16/9/2008', '20/12/2006',\n",
            "       '22/12/2007', '14/3/2008', '13/9/2008', '17/5/2008', '7/3/2007',\n",
            "       '27/1/2008', '19/12/2007', '9/9/2007', '8/2/2007', '6/2/2007',\n",
            "       '7/1/2007', '22/10/2008', '22/6/2007', '24/3/2007', '26/12/2008',\n",
            "       '27/12/2008', '2/1/2007', '22/2/2009', '8/10/2007', '25/7/2008',\n",
            "       '16/1/2009', '30/1/2009', '19/10/2007', '3/2/2009', '31/12/2007',\n",
            "       '30/1/2008', '8/9/2008', '16/5/2007', '28/3/2007', '21/8/2008',\n",
            "       '29/6/2008', '10/2/2008', '10/1/2008', '26/9/2008', '3/5/2007',\n",
            "       '1/12/2007', '23/10/2007', '6/9/2008', '24/3/2008', '5/5/2007',\n",
            "       '3/4/2007', '8/10/2008', '5/2/2008', '18/2/2008', '3/12/2008',\n",
            "       '4/10/2008', '9/8/2007', '26/8/2007', '18/1/2008', '14/10/2008',\n",
            "       '11/2/2007', '19/5/2008', '31/12/2006', '20/6/2007', '17/4/2007',\n",
            "       '1/3/2009', '12/8/2007', '5/8/2007', '20/8/2007', '25/10/2007',\n",
            "       '4/3/2007', '12/3/2008', '16/3/2007', '20/11/2008', '11/4/2008',\n",
            "       '2/3/2007', '3/7/2008', '31/10/2008', '21/10/2007', '11/1/2009',\n",
            "       '12/3/2007', '1/10/2007', '13/3/2009', '15/9/2008', '2/5/2008',\n",
            "       '16/3/2009', '13/12/2008', '8/2/2009', '7/1/2008', '29/9/2007',\n",
            "       '6/10/2007', '23/3/2008', '1/11/2008', '31/7/2008', '22/1/2009',\n",
            "       '29/7/2007', '13/2/2009', '11/8/2007', '14/5/2008', '31/1/2007',\n",
            "       '20/3/2008', '20/2/2007', '30/7/2007', '12/4/2007', '2/12/2007',\n",
            "       '8/12/2008', '10/2/2007', '5/3/2007', '1/1/2007', '12/1/2008',\n",
            "       '9/2/2009', '20/10/2007', '9/4/2007', '21/9/2008', '11/10/2008',\n",
            "       '30/7/2008', '21/1/2009', '29/10/2008', '14/9/2007', '19/9/2008',\n",
            "       '15/3/2007', '23/8/2007', '25/6/2008', '12/10/2008', '20/8/2008',\n",
            "       '24/7/2007', '24/12/2007', '12/2/2007', '9/7/2007', '2/2/2008',\n",
            "       '17/9/2008', '13/7/2007', '1/4/2007', '19/2/2007', '28/2/2007',\n",
            "       '16/10/2008', '15/12/2008', '14/11/2008', '23/6/2007', '4/9/2008',\n",
            "       '12/3/2009', '26/11/2008', '18/2/2007', '24/8/2008', '5/2/2009',\n",
            "       '29/5/2008', '5/7/2007', '12/5/2008', '26/7/2007', '3/3/2008',\n",
            "       '27/12/2006', '27/4/2007', '10/8/2007', '10/1/2009', '15/1/2007',\n",
            "       '2/1/2009', '9/11/2008', '17/4/2008', '6/6/2007', '1/12/2008',\n",
            "       '26/7/2008', '10/12/2008', '12/9/2007', '10/2/2009', '3/10/2008',\n",
            "       '19/8/2008', '30/3/2007', '18/7/2007', '7/5/2008', '5/6/2008',\n",
            "       '15/4/2007', '18/5/2007', '15/2/2009', '2/3/2008', '25/6/2007',\n",
            "       '15/10/2007', '21/11/2008', '24/7/2008', '17/1/2009', '9/8/2008',\n",
            "       '17/12/2006', '13/3/2008', '1/10/2008', '20/9/2007', '28/8/2007',\n",
            "       '16/12/2008', '18/6/2007', '13/8/2008', '9/11/2007', '27/1/2009',\n",
            "       '14/12/2007', '22/4/2008', '6/3/2009', '17/6/2007', '22/9/2007',\n",
            "       '13/3/2007', '18/6/2008', '10/7/2007', '12/7/2007', '12/6/2007',\n",
            "       '15/3/2008', '28/10/2008', '15/12/2007', '29/4/2008', '5/3/2009',\n",
            "       '16/4/2008', '8/1/2008', '9/12/2007', '30/5/2008', '24/2/2008',\n",
            "       '3/3/2009', '26/10/2007', '4/12/2008', '25/3/2008', '28/2/2009',\n",
            "       '16/1/2008', '12/2/2009', '1/6/2008', '12/12/2007', '16/2/2007',\n",
            "       '7/3/2009', '8/3/2007', '1/5/2007', '30/12/2007', '10/11/2008',\n",
            "       '8/9/2007', '4/4/2007', '23/11/2007', '16/9/2007', '4/3/2009',\n",
            "       '16/2/2008', '17/11/2007', '29/10/2007', '15/4/2008', '7/4/2007',\n",
            "       '7/9/2007', '24/12/2006', '10/6/2007', '19/3/2009', '12/8/2008',\n",
            "       '26/1/2009', '21/3/2008', '26/3/2007', '7/6/2007', '30/12/2006',\n",
            "       '4/1/2009', '9/10/2007', '8/2/2008', '3/1/2008', '20/11/2007',\n",
            "       '29/6/2007', '15/7/2008', '5/6/2007', '18/5/2008', '4/2/2009',\n",
            "       '11/3/2007', '31/3/2008', '16/4/2007', '7/10/2008', '7/10/2007',\n",
            "       '20/6/2008', '27/3/2007', '2/3/2009', '2/11/2008', '13/6/2008',\n",
            "       '23/2/2007', '3/1/2007', '12/2/2008', '27/10/2008', '9/7/2008',\n",
            "       '11/5/2008', '6/1/2007', '29/11/2007', '14/9/2008', '18/8/2007',\n",
            "       '6/9/2007', '9/12/2008', '5/11/2007', '3/2/2008', '21/12/2007',\n",
            "       '30/10/2007', '8/11/2008', '19/4/2007', '11/1/2008', '7/5/2007',\n",
            "       '21/12/2006', '22/6/2008', '21/6/2008', '9/3/2009', '11/4/2007',\n",
            "       '2/5/2007', '1/3/2008', '27/7/2007', '15/7/2007', '12/1/2009',\n",
            "       '9/3/2007', '5/1/2008', '4/8/2007', '3/9/2007', '28/11/2007',\n",
            "       '9/1/2009', '14/1/2008', '9/1/2007', '21/3/2009', '26/12/2006',\n",
            "       '25/10/2008', '16/5/2008', '20/3/2007', '2/9/2007', '4/1/2007',\n",
            "       '10/1/2007', '29/7/2008', '19/3/2008', '20/2/2009', '8/4/2007',\n",
            "       '24/11/2008', '18/2/2009', '5/9/2008', '17/1/2007', '19/2/2008',\n",
            "       '7/7/2008', '24/6/2007', '27/8/2007', '25/2/2007', '26/4/2007',\n",
            "       '18/9/2007', '25/1/2007', '9/5/2008', '14/8/2007', '19/10/2008',\n",
            "       '16/1/2007', '10/10/2007', '1/6/2007', '2/4/2008', '29/12/2007',\n",
            "       '7/3/2008', '9/9/2008', '20/7/2008', '1/8/2007', '5/7/2008',\n",
            "       '15/11/2008', '19/12/2006', '20/7/2007', '16/8/2007', '25/12/2006',\n",
            "       '8/3/2008', '17/6/2008', '18/11/2008', '11/8/2008', '26/11/2007',\n",
            "       '11/10/2007', '24/5/2008', '24/2/2009', '6/11/2007', '26/4/2008',\n",
            "       '8/1/2009', '31/8/2008', '8/7/2007', '28/3/2008', '29/8/2008',\n",
            "       '14/4/2007', '15/6/2007', '13/1/2009', '27/10/2007', '14/6/2008',\n",
            "       '16/7/2008', '25/2/2008', '28/4/2008', '16/10/2007', '13/11/2008',\n",
            "       '3/9/2008', '3/11/2007', '20/1/2008', '18/8/2008', '6/12/2008',\n",
            "       '13/6/2007', '10/4/2007', '17/11/2008', '19/6/2008', '4/7/2008',\n",
            "       '7/4/2008', '5/10/2008', '22/1/2007', '15/9/2007', '25/7/2007',\n",
            "       '14/6/2007', '14/10/2007', '10/6/2008', '21/2/2009', '22/11/2008',\n",
            "       '3/4/2008', '28/1/2007', '18/1/2007', '6/6/2008', '8/5/2007',\n",
            "       '12/6/2008', '24/8/2007', '9/6/2007', '5/1/2009', '15/1/2008',\n",
            "       '1/7/2008', '15/11/2007', '23/1/2009', '28/1/2008', '1/8/2008',\n",
            "       '27/5/2007', '3/1/2009', '4/11/2007', '4/7/2007', '23/4/2008',\n",
            "       '10/12/2007', '11/9/2008', '30/9/2007', '10/8/2008', '28/5/2007',\n",
            "       '30/8/2007', '8/8/2008', '5/12/2008', '6/12/2007', '19/3/2007',\n",
            "       '27/2/2009', '29/9/2008', '17/3/2009', '5/9/2007', '29/12/2006',\n",
            "       '20/1/2009', '6/1/2009', '2/7/2007', '21/6/2007', '27/7/2008',\n",
            "       '1/4/2008', '17/7/2008', '13/10/2007', '11/6/2008', '15/2/2008',\n",
            "       '26/1/2007', '15/8/2008', '21/11/2007', '23/11/2008', '14/1/2007',\n",
            "       '21/5/2007', '11/12/2008', '31/10/2007', '23/7/2008', '6/1/2008',\n",
            "       '23/9/2007', '21/7/2008', '21/1/2007', '25/1/2008', '11/7/2007',\n",
            "       '26/2/2008', '16/7/2007', '12/4/2008', '14/12/2008', '15/3/2009',\n",
            "       '24/4/2007', '2/9/2008', '24/6/2008', '4/12/2007', '1/9/2007',\n",
            "       '8/12/2007', '18/1/2009', '18/4/2007', '14/2/2008', '17/10/2007',\n",
            "       '4/6/2008', '9/4/2008', '18/4/2008', '7/12/2007', '10/7/2008',\n",
            "       '10/9/2008', '9/2/2007', '23/10/2008', '4/6/2007', '29/3/2007',\n",
            "       '25/8/2007', '4/1/2008', '7/8/2008', '8/6/2008', '25/3/2007',\n",
            "       '10/5/2007', '11/11/2007', '16/3/2008', '25/12/2008', '12/5/2007',\n",
            "       '24/12/2008', '26/12/2007', '21/4/2007', '17/7/2007', '13/1/2008',\n",
            "       '2/2/2009', '3/2/2007', '13/2/2007', '21/9/2007', '26/3/2008',\n",
            "       '27/11/2007', '14/2/2009', '6/7/2007', '27/2/2008', '31/7/2007',\n",
            "       '12/11/2007', '15/5/2008', '17/2/2008', '29/11/2008', '27/6/2007',\n",
            "       '30/6/2007', '4/8/2008', '4/5/2007', '16/12/2006', '25/2/2009',\n",
            "       '6/4/2007', '23/12/2007', '22/12/2006', '24/2/2007', '19/7/2008',\n",
            "       '26/6/2007', '13/4/2007', '21/3/2007', '19/5/2007', '11/1/2007',\n",
            "       '28/7/2007', '30/4/2008', '31/5/2007', '21/7/2007', '10/9/2007',\n",
            "       '29/5/2007', '12/1/2007', '7/8/2007', '23/2/2009', '25/8/2008',\n",
            "       '1/5/2008', '4/10/2007'], dtype=object)}\n",
            "Time {'Time': array(['01:42:00', '22:31:00', '22:27:00', ..., '06:11:00', '05:17:00',\n",
            "       '22:53:00'], dtype=object)}\n",
            "Global_active_power {'Global_active_power': array(['0.486', '0.154', '1.136', ..., '7.972', '9.254', '6.524'],\n",
            "      dtype=object)}\n",
            "Global_reactive_power {'Global_reactive_power': array(['0.192', '0.122', '0.136', '0.130', '0.046', '0.134', '?', '0.098',\n",
            "       '0.000', '0.238', '0.220', '0.100', '0.186', '0.170', '0.224',\n",
            "       '0.092', '0.088', '0.398', '0.074', '0.124', '0.166', '0.140',\n",
            "       '0.068', '0.168', '0.112', '0.050', '0.304', '0.188', '0.162',\n",
            "       '0.270', '0.116', '0.128', '0.310', '0.216', '0.126', '0.052',\n",
            "       '0.148', '0.178', '0.084', '0.094', '0.090', '0.314', '0.202',\n",
            "       '0.182', '0.080', '0.194', '0.232', '0.114', '0.108', '0.172',\n",
            "       '0.184', '0.144', '0.054', '0.102', '0.146', '0.458', '0.066',\n",
            "       '0.096', '0.272', '0.200', '0.252', '0.262', '0.344', '0.318',\n",
            "       '0.210', '0.274', '0.524', '0.330', '0.058', '0.060', '0.326',\n",
            "       '0.138', '0.176', '0.082', '0.180', '0.234', '0.484', '0.346',\n",
            "       '0.198', '0.196', '0.064', '0.214', '0.244', '0.150', '0.174',\n",
            "       '0.218', '0.246', '0.160', '0.078', '0.132', '0.384', '0.312',\n",
            "       '0.248', '0.106', '0.208', '0.254', '0.104', '0.118', '0.308',\n",
            "       '0.154', '0.056', '0.258', '0.572', '0.602', '0.190', '0.142',\n",
            "       '0.396', '0.164', '0.120', '0.110', '0.062', '0.212', '0.230',\n",
            "       '0.072', '0.076', '0.282', '0.522', '0.086', '0.374', '0.222',\n",
            "       '0.334', '0.256', '0.228', '0.306', '0.206', '0.280', '0.364',\n",
            "       '0.236', '0.070', '0.240', '0.432', '0.416', '0.386', '0.152',\n",
            "       '0.316', '0.204', '0.406', '0.362', '0.414', '0.358', '0.048',\n",
            "       '0.370', '0.324', '0.294', '0.288', '0.156', '0.418', '0.226',\n",
            "       '0.250', '0.266', '0.650', '0.850', '0.366', '0.328', '0.264',\n",
            "       '0.376', '0.442', '0.382', '0.340', '0.242', '0.292', '0.352',\n",
            "       '0.158', '0.276', '0.516', '0.360', '0.260', '0.296', '0.320',\n",
            "       '0.394', '0.336', '0.408', '0.278', '0.378', '0.268', '0.298',\n",
            "       '0.456', '0.666', '0.444', '0.500', '0.380', '0.424', '0.422',\n",
            "       '0.410', '0.300', '0.400', '0.462', '0.476', '0.450', '0.332',\n",
            "       '0.322', '0.302', '0.338', '0.542', '0.402', '0.392', '0.348',\n",
            "       '0.436', '0.840', '0.356', '0.544', '0.490', '0.496', '0.354',\n",
            "       '0.290', '0.692', '0.486', '0.412', '0.342', '0.286', '0.688',\n",
            "       '0.372', '0.438', '0.482', '0.518', '0.388', '0.428', '0.514',\n",
            "       '0.528', '0.472', '0.612', '0.420', '0.284', '0.350', '0.556',\n",
            "       '0.564', '0.662', '0.670', '0.368', '0.772', '0.586', '0.468',\n",
            "       '0.604', '0.452', '0.536', '0.448', '0.562', '0.430', '0.454',\n",
            "       '0.616', '0.622', '0.554', '0.464', '0.606', '0.466', '0.736',\n",
            "       '0.534', '0.498', '0.434', '0.390', '0.460', '0.478', '0.520',\n",
            "       '0.592', '0.502', '0.488', '0.440', '0.644', '0.578', '0.608',\n",
            "       '0.538', '0.530', '0.512', '0.610', '0.716', '0.574', '0.480',\n",
            "       '0.404', '0.532', '0.652', '0.642', '0.548', '0.960', '0.506',\n",
            "       '0.596', '0.426', '0.446', '0.752', '0.474', '0.664', '0.576',\n",
            "       '0.570', '0.640', '0.526', '0.900', '0.540', '0.600', '1.148',\n",
            "       '0.510', '0.492', '0.582', '0.746', '0.704', '0.594', '0.756',\n",
            "       '0.826', '0.560', '0.842', '0.552', '0.776', '0.508', '0.658',\n",
            "       '0.566', '0.550', '0.494', '0.504', '0.590', '1.080', '0.690',\n",
            "       '0.580', '0.630', '0.956', '0.706', '0.558', '0.598', '0.614',\n",
            "       '1.060', '0.634', '0.470', '0.700', '0.694', '1.008', '0.584',\n",
            "       '0.668', '0.682', '0.546', '0.986', '0.866', '0.626', '0.902',\n",
            "       '0.676', '0.638', '0.742', '0.568', '0.784', '0.936', '0.748',\n",
            "       '0.588', '0.744', '0.908', '0.740', '0.868', '0.906', '0.780',\n",
            "       '0.646'], dtype=object)}\n",
            "Voltage {'Voltage': array(['244.900', '240.890', '240.340', ..., '249.700', '229.910',\n",
            "       '250.020'], dtype=object)}\n",
            "Global_intensity {'Global_intensity': array(['2.000', '0.800', '4.800', '1.400', '10.200', '1.200', '?',\n",
            "       '1.000', '1.800', '8.400', '7.600', '5.800', '0.200', '10.800',\n",
            "       '4.200', '5.000', '3.200', '2.600', '1.600', '8.600', '9.600',\n",
            "       '15.000', '14.600', '7.400', '5.600', '4.000', '17.400', '6.200',\n",
            "       '5.400', '6.000', '6.400', '2.800', '10.400', '7.000', '3.000',\n",
            "       '25.800', '2.400', '11.000', '10.600', '20.200', '6.600', '20.800',\n",
            "       '3.400', '0.400', '3.600', '0.600', '15.600', '16.200', '7.800',\n",
            "       '13.200', '6.800', '5.200', '11.400', '9.800', '8.000', '4.600',\n",
            "       '9.000', '2.200', '20.000', '13.600', '3.800', '25.200', '11.200',\n",
            "       '15.800', '10.000', '14.800', '16.600', '13.000', '12.800',\n",
            "       '12.200', '17.000', '17.600', '11.600', '18.400', '26.200',\n",
            "       '7.200', '14.200', '16.400', '8.800', '12.000', '9.400', '9.200',\n",
            "       '12.400', '8.200', '12.600', '19.600', '19.200', '18.600',\n",
            "       '15.200', '18.200', '19.000', '18.800', '14.000', '13.800',\n",
            "       '11.800', '15.400', '4.400', '23.600', '14.400', '16.000',\n",
            "       '23.000', '21.400', '13.400', '17.200', '23.400', '25.400',\n",
            "       '24.000', '20.400', '24.400', '34.000', '20.600', '22.600',\n",
            "       '21.600', '26.800', '19.400', '28.800', '16.800', '21.200',\n",
            "       '24.800', '19.800', '18.000', '22.400', '25.600', '17.800',\n",
            "       '24.600', '25.000', '29.200', '22.200', '23.200', '22.800',\n",
            "       '32.600', '22.000', '29.800', '21.800', '24.200', '23.800',\n",
            "       '21.000', '36.000', '34.600', '26.000', '28.600', '38.400',\n",
            "       '29.000', '27.200', '29.600', '26.600', '31.200', '34.400',\n",
            "       '27.000', '30.200', '27.800', '34.800', '26.400', '30.400',\n",
            "       '29.400', '34.200', '30.600', '31.800', '31.600', '28.000',\n",
            "       '36.200', '33.000', '30.000', '33.400', '43.200', '27.400',\n",
            "       '28.400', '27.600', '28.200', '33.200', '43.400', '33.600',\n",
            "       '31.000', '42.200', '31.400', '35.600', '36.400', '41.200',\n",
            "       '40.400'], dtype=object)}\n",
            "Sub_metering_1 {'Sub_metering_1': array(['0.000', '?', '1.000', '20.000', '2.000', '37.000', '36.000',\n",
            "       '38.000', '39.000', '23.000', '35.000', '16.000', '17.000',\n",
            "       '33.000', '19.000', '18.000', '21.000', '22.000', '29.000',\n",
            "       '6.000', '32.000', '11.000', '27.000', '4.000', '14.000', '12.000',\n",
            "       '42.000', '31.000', '40.000', '5.000', '28.000', '3.000', '26.000',\n",
            "       '13.000', '44.000', '48.000', '7.000', '30.000', '68.000',\n",
            "       '72.000', '24.000', '43.000', '15.000', '8.000', '34.000',\n",
            "       '10.000', '75.000', '74.000', '9.000', '25.000', '41.000',\n",
            "       '45.000', '50.000', '80.000', '64.000', '76.000', '49.000',\n",
            "       '56.000', '78.000', '71.000', '73.000', '51.000'], dtype=object)}\n",
            "Sub_metering_2 {'Sub_metering_2': array(['0.000', '2.000', '1.000', '?', '38.000', '25.000', '7.000',\n",
            "       '36.000', '39.000', '17.000', '20.000', '33.000', '35.000',\n",
            "       '21.000', '30.000', '31.000', '5.000', '22.000', '72.000', '9.000',\n",
            "       '3.000', '37.000', '4.000', '71.000', '24.000', '75.000', '11.000',\n",
            "       '32.000', '6.000', '18.000', '28.000', '34.000', '27.000',\n",
            "       '15.000', '12.000', '29.000', '26.000', '73.000', '40.000',\n",
            "       '8.000', '70.000', '13.000', '23.000', '51.000', '16.000',\n",
            "       '41.000', '74.000', '19.000', '62.000', '56.000', '64.000',\n",
            "       '42.000', '14.000', '59.000', '60.000', '48.000', '67.000',\n",
            "       '10.000', '66.000', '58.000', '65.000', '45.000', '57.000',\n",
            "       '46.000', '61.000', '44.000', '68.000', '54.000', '55.000',\n",
            "       '43.000', '69.000', '53.000', '52.000', '50.000', '63.000'],\n",
            "      dtype=object)}\n",
            "Sub_metering_3 {'Sub_metering_3': array([ 0.,  1., 18., nan, 17., 28., 19., 30., 16.,  9., 12., 11., 10.,\n",
            "        7., 15.,  2., 24., 14., 13., 27., 29., 22.,  5.,  3.,  8.,  6.,\n",
            "        4., 25., 31., 20., 21., 23., 26.])}\n"
          ]
        }
      ]
    },
    {
      "cell_type": "code",
      "source": [],
      "metadata": {
        "id": "pSdqc6GYeHrr"
      },
      "execution_count": null,
      "outputs": []
    },
    {
      "cell_type": "markdown",
      "source": [
        "# 4. Data Standerdizing"
      ],
      "metadata": {
        "id": "YH6Mrk47rH4P"
      }
    },
    {
      "cell_type": "code",
      "source": [
        "# naming the variable with unqiue values.\n",
        "for feature in [feature for feature in data_sample.columns if feature not in ['Date', 'Time']]:\n",
        " print(\"feature {} has these {} unique values\\n\".format(feature, data_sample[feature].unique()))\n",
        "\n"
      ],
      "metadata": {
        "id": "-GEWx1ERahYn",
        "colab": {
          "base_uri": "https://localhost:8080/"
        },
        "outputId": "6ffbd9ef-a973-4ae0-9bdb-e4ca74702596"
      },
      "execution_count": null,
      "outputs": [
        {
          "output_type": "stream",
          "name": "stdout",
          "text": [
            "feature Global_active_power has these ['0.486' '0.154' '1.136' ... '7.972' '9.254' '6.524'] unique values\n",
            "\n",
            "feature Global_reactive_power has these ['0.192' '0.122' '0.136' '0.130' '0.046' '0.134' '?' '0.098' '0.000'\n",
            " '0.238' '0.220' '0.100' '0.186' '0.170' '0.224' '0.092' '0.088' '0.398'\n",
            " '0.074' '0.124' '0.166' '0.140' '0.068' '0.168' '0.112' '0.050' '0.304'\n",
            " '0.188' '0.162' '0.270' '0.116' '0.128' '0.310' '0.216' '0.126' '0.052'\n",
            " '0.148' '0.178' '0.084' '0.094' '0.090' '0.314' '0.202' '0.182' '0.080'\n",
            " '0.194' '0.232' '0.114' '0.108' '0.172' '0.184' '0.144' '0.054' '0.102'\n",
            " '0.146' '0.458' '0.066' '0.096' '0.272' '0.200' '0.252' '0.262' '0.344'\n",
            " '0.318' '0.210' '0.274' '0.524' '0.330' '0.058' '0.060' '0.326' '0.138'\n",
            " '0.176' '0.082' '0.180' '0.234' '0.484' '0.346' '0.198' '0.196' '0.064'\n",
            " '0.214' '0.244' '0.150' '0.174' '0.218' '0.246' '0.160' '0.078' '0.132'\n",
            " '0.384' '0.312' '0.248' '0.106' '0.208' '0.254' '0.104' '0.118' '0.308'\n",
            " '0.154' '0.056' '0.258' '0.572' '0.602' '0.190' '0.142' '0.396' '0.164'\n",
            " '0.120' '0.110' '0.062' '0.212' '0.230' '0.072' '0.076' '0.282' '0.522'\n",
            " '0.086' '0.374' '0.222' '0.334' '0.256' '0.228' '0.306' '0.206' '0.280'\n",
            " '0.364' '0.236' '0.070' '0.240' '0.432' '0.416' '0.386' '0.152' '0.316'\n",
            " '0.204' '0.406' '0.362' '0.414' '0.358' '0.048' '0.370' '0.324' '0.294'\n",
            " '0.288' '0.156' '0.418' '0.226' '0.250' '0.266' '0.650' '0.850' '0.366'\n",
            " '0.328' '0.264' '0.376' '0.442' '0.382' '0.340' '0.242' '0.292' '0.352'\n",
            " '0.158' '0.276' '0.516' '0.360' '0.260' '0.296' '0.320' '0.394' '0.336'\n",
            " '0.408' '0.278' '0.378' '0.268' '0.298' '0.456' '0.666' '0.444' '0.500'\n",
            " '0.380' '0.424' '0.422' '0.410' '0.300' '0.400' '0.462' '0.476' '0.450'\n",
            " '0.332' '0.322' '0.302' '0.338' '0.542' '0.402' '0.392' '0.348' '0.436'\n",
            " '0.840' '0.356' '0.544' '0.490' '0.496' '0.354' '0.290' '0.692' '0.486'\n",
            " '0.412' '0.342' '0.286' '0.688' '0.372' '0.438' '0.482' '0.518' '0.388'\n",
            " '0.428' '0.514' '0.528' '0.472' '0.612' '0.420' '0.284' '0.350' '0.556'\n",
            " '0.564' '0.662' '0.670' '0.368' '0.772' '0.586' '0.468' '0.604' '0.452'\n",
            " '0.536' '0.448' '0.562' '0.430' '0.454' '0.616' '0.622' '0.554' '0.464'\n",
            " '0.606' '0.466' '0.736' '0.534' '0.498' '0.434' '0.390' '0.460' '0.478'\n",
            " '0.520' '0.592' '0.502' '0.488' '0.440' '0.644' '0.578' '0.608' '0.538'\n",
            " '0.530' '0.512' '0.610' '0.716' '0.574' '0.480' '0.404' '0.532' '0.652'\n",
            " '0.642' '0.548' '0.960' '0.506' '0.596' '0.426' '0.446' '0.752' '0.474'\n",
            " '0.664' '0.576' '0.570' '0.640' '0.526' '0.900' '0.540' '0.600' '1.148'\n",
            " '0.510' '0.492' '0.582' '0.746' '0.704' '0.594' '0.756' '0.826' '0.560'\n",
            " '0.842' '0.552' '0.776' '0.508' '0.658' '0.566' '0.550' '0.494' '0.504'\n",
            " '0.590' '1.080' '0.690' '0.580' '0.630' '0.956' '0.706' '0.558' '0.598'\n",
            " '0.614' '1.060' '0.634' '0.470' '0.700' '0.694' '1.008' '0.584' '0.668'\n",
            " '0.682' '0.546' '0.986' '0.866' '0.626' '0.902' '0.676' '0.638' '0.742'\n",
            " '0.568' '0.784' '0.936' '0.748' '0.588' '0.744' '0.908' '0.740' '0.868'\n",
            " '0.906' '0.780' '0.646'] unique values\n",
            "\n",
            "feature Voltage has these ['244.900' '240.890' '240.340' ... '249.700' '229.910' '250.020'] unique values\n",
            "\n",
            "feature Global_intensity has these ['2.000' '0.800' '4.800' '1.400' '10.200' '1.200' '?' '1.000' '1.800'\n",
            " '8.400' '7.600' '5.800' '0.200' '10.800' '4.200' '5.000' '3.200' '2.600'\n",
            " '1.600' '8.600' '9.600' '15.000' '14.600' '7.400' '5.600' '4.000'\n",
            " '17.400' '6.200' '5.400' '6.000' '6.400' '2.800' '10.400' '7.000' '3.000'\n",
            " '25.800' '2.400' '11.000' '10.600' '20.200' '6.600' '20.800' '3.400'\n",
            " '0.400' '3.600' '0.600' '15.600' '16.200' '7.800' '13.200' '6.800'\n",
            " '5.200' '11.400' '9.800' '8.000' '4.600' '9.000' '2.200' '20.000'\n",
            " '13.600' '3.800' '25.200' '11.200' '15.800' '10.000' '14.800' '16.600'\n",
            " '13.000' '12.800' '12.200' '17.000' '17.600' '11.600' '18.400' '26.200'\n",
            " '7.200' '14.200' '16.400' '8.800' '12.000' '9.400' '9.200' '12.400'\n",
            " '8.200' '12.600' '19.600' '19.200' '18.600' '15.200' '18.200' '19.000'\n",
            " '18.800' '14.000' '13.800' '11.800' '15.400' '4.400' '23.600' '14.400'\n",
            " '16.000' '23.000' '21.400' '13.400' '17.200' '23.400' '25.400' '24.000'\n",
            " '20.400' '24.400' '34.000' '20.600' '22.600' '21.600' '26.800' '19.400'\n",
            " '28.800' '16.800' '21.200' '24.800' '19.800' '18.000' '22.400' '25.600'\n",
            " '17.800' '24.600' '25.000' '29.200' '22.200' '23.200' '22.800' '32.600'\n",
            " '22.000' '29.800' '21.800' '24.200' '23.800' '21.000' '36.000' '34.600'\n",
            " '26.000' '28.600' '38.400' '29.000' '27.200' '29.600' '26.600' '31.200'\n",
            " '34.400' '27.000' '30.200' '27.800' '34.800' '26.400' '30.400' '29.400'\n",
            " '34.200' '30.600' '31.800' '31.600' '28.000' '36.200' '33.000' '30.000'\n",
            " '33.400' '43.200' '27.400' '28.400' '27.600' '28.200' '33.200' '43.400'\n",
            " '33.600' '31.000' '42.200' '31.400' '35.600' '36.400' '41.200' '40.400'] unique values\n",
            "\n",
            "feature Sub_metering_1 has these ['0.000' '?' '1.000' '20.000' '2.000' '37.000' '36.000' '38.000' '39.000'\n",
            " '23.000' '35.000' '16.000' '17.000' '33.000' '19.000' '18.000' '21.000'\n",
            " '22.000' '29.000' '6.000' '32.000' '11.000' '27.000' '4.000' '14.000'\n",
            " '12.000' '42.000' '31.000' '40.000' '5.000' '28.000' '3.000' '26.000'\n",
            " '13.000' '44.000' '48.000' '7.000' '30.000' '68.000' '72.000' '24.000'\n",
            " '43.000' '15.000' '8.000' '34.000' '10.000' '75.000' '74.000' '9.000'\n",
            " '25.000' '41.000' '45.000' '50.000' '80.000' '64.000' '76.000' '49.000'\n",
            " '56.000' '78.000' '71.000' '73.000' '51.000'] unique values\n",
            "\n",
            "feature Sub_metering_2 has these ['0.000' '2.000' '1.000' '?' '38.000' '25.000' '7.000' '36.000' '39.000'\n",
            " '17.000' '20.000' '33.000' '35.000' '21.000' '30.000' '31.000' '5.000'\n",
            " '22.000' '72.000' '9.000' '3.000' '37.000' '4.000' '71.000' '24.000'\n",
            " '75.000' '11.000' '32.000' '6.000' '18.000' '28.000' '34.000' '27.000'\n",
            " '15.000' '12.000' '29.000' '26.000' '73.000' '40.000' '8.000' '70.000'\n",
            " '13.000' '23.000' '51.000' '16.000' '41.000' '74.000' '19.000' '62.000'\n",
            " '56.000' '64.000' '42.000' '14.000' '59.000' '60.000' '48.000' '67.000'\n",
            " '10.000' '66.000' '58.000' '65.000' '45.000' '57.000' '46.000' '61.000'\n",
            " '44.000' '68.000' '54.000' '55.000' '43.000' '69.000' '53.000' '52.000'\n",
            " '50.000' '63.000'] unique values\n",
            "\n",
            "feature Sub_metering_3 has these [ 0.  1. 18. nan 17. 28. 19. 30. 16.  9. 12. 11. 10.  7. 15.  2. 24. 14.\n",
            " 13. 27. 29. 22.  5.  3.  8.  6.  4. 25. 31. 20. 21. 23. 26.] unique values\n",
            "\n"
          ]
        }
      ]
    },
    {
      "cell_type": "code",
      "source": [
        "\n",
        "### checking no of records in each feature that have value as ?\n",
        "for feature in [feature for feature in data_sample.columns if feature not in ['Date', 'Time']]:\n",
        " print(\"The feature {} has {} ? in it\".format(feature,data_sample[data_sample[feature]=='?'].shape))\n"
      ],
      "metadata": {
        "id": "G4WLJAgbdY4Z",
        "colab": {
          "base_uri": "https://localhost:8080/"
        },
        "outputId": "b06d1fcc-17de-4d6a-ced8-1afe22ce8554"
      },
      "execution_count": null,
      "outputs": [
        {
          "output_type": "stream",
          "name": "stdout",
          "text": [
            "The feature Global_active_power has (177, 9) ? in it\n",
            "The feature Global_reactive_power has (177, 9) ? in it\n",
            "The feature Voltage has (177, 9) ? in it\n",
            "The feature Global_intensity has (177, 9) ? in it\n",
            "The feature Sub_metering_1 has (177, 9) ? in it\n",
            "The feature Sub_metering_2 has (177, 9) ? in it\n",
            "The feature Sub_metering_3 has (0, 9) ? in it\n"
          ]
        }
      ]
    },
    {
      "cell_type": "code",
      "source": [
        "### replacing ? values with nan values\n",
        "data_sample.replace('?', np.nan, inplace=True)"
      ],
      "metadata": {
        "id": "EPUrhK1Cd2Y0"
      },
      "execution_count": null,
      "outputs": []
    },
    {
      "cell_type": "code",
      "source": [
        "### checking no of records in each feature that have value as ?\n",
        "for feature in [feature for feature in data_sample.columns if feature not in ['Date', 'Time']]:\n",
        " print(\"The feature {} has {} ? in it\".format(feature,data_sample[data_sample[feature]=='?'].shape))"
      ],
      "metadata": {
        "id": "gpqEdZHMfezB",
        "colab": {
          "base_uri": "https://localhost:8080/"
        },
        "outputId": "965880ab-8573-428e-a619-6ddcda5ca66a"
      },
      "execution_count": null,
      "outputs": [
        {
          "output_type": "stream",
          "name": "stdout",
          "text": [
            "The feature Global_active_power has (0, 9) ? in it\n",
            "The feature Global_reactive_power has (0, 9) ? in it\n",
            "The feature Voltage has (0, 9) ? in it\n",
            "The feature Global_intensity has (0, 9) ? in it\n",
            "The feature Sub_metering_1 has (0, 9) ? in it\n",
            "The feature Sub_metering_2 has (0, 9) ? in it\n",
            "The feature Sub_metering_3 has (0, 9) ? in it\n"
          ]
        }
      ]
    },
    {
      "cell_type": "code",
      "source": [
        "# Checking of Uniquely Converted Values and sum.\n",
        "data_sample.isnull().sum()"
      ],
      "metadata": {
        "id": "lIfY9ugHfm2H",
        "colab": {
          "base_uri": "https://localhost:8080/"
        },
        "outputId": "95a262f2-4175-4e07-bb26-8968c5123763"
      },
      "execution_count": null,
      "outputs": [
        {
          "output_type": "execute_result",
          "data": {
            "text/plain": [
              "Date                       0\n",
              "Time                       0\n",
              "Global_active_power      177\n",
              "Global_reactive_power    177\n",
              "Voltage                  177\n",
              "Global_intensity         177\n",
              "Sub_metering_1           177\n",
              "Sub_metering_2           177\n",
              "Sub_metering_3           177\n",
              "dtype: int64"
            ]
          },
          "metadata": {},
          "execution_count": 88
        }
      ]
    },
    {
      "cell_type": "code",
      "source": [
        "## dropping nan values\n",
        "data_sample.dropna(inplace=True)\n"
      ],
      "metadata": {
        "id": "XU9NqsZ7f6_k"
      },
      "execution_count": null,
      "outputs": []
    },
    {
      "cell_type": "code",
      "source": [
        "data_sample.isnull().sum()"
      ],
      "metadata": {
        "id": "C0jLL5j8gROO",
        "colab": {
          "base_uri": "https://localhost:8080/"
        },
        "outputId": "3a53ae48-e583-4e10-ccfe-f10ab2be0727"
      },
      "execution_count": null,
      "outputs": [
        {
          "output_type": "execute_result",
          "data": {
            "text/plain": [
              "Date                     0\n",
              "Time                     0\n",
              "Global_active_power      0\n",
              "Global_reactive_power    0\n",
              "Voltage                  0\n",
              "Global_intensity         0\n",
              "Sub_metering_1           0\n",
              "Sub_metering_2           0\n",
              "Sub_metering_3           0\n",
              "dtype: int64"
            ]
          },
          "metadata": {},
          "execution_count": 90
        }
      ]
    },
    {
      "cell_type": "code",
      "source": [
        "data_sample.info()"
      ],
      "metadata": {
        "id": "uI_MNZIzgfXA",
        "colab": {
          "base_uri": "https://localhost:8080/"
        },
        "outputId": "29572892-49ff-4d5f-9492-3983845817e4"
      },
      "execution_count": null,
      "outputs": [
        {
          "output_type": "stream",
          "name": "stdout",
          "text": [
            "<class 'pandas.core.frame.DataFrame'>\n",
            "Int64Index: 49823 entries, 0 to 49999\n",
            "Data columns (total 9 columns):\n",
            " #   Column                 Non-Null Count  Dtype  \n",
            "---  ------                 --------------  -----  \n",
            " 0   Date                   49823 non-null  object \n",
            " 1   Time                   49823 non-null  object \n",
            " 2   Global_active_power    49823 non-null  object \n",
            " 3   Global_reactive_power  49823 non-null  object \n",
            " 4   Voltage                49823 non-null  object \n",
            " 5   Global_intensity       49823 non-null  object \n",
            " 6   Sub_metering_1         49823 non-null  object \n",
            " 7   Sub_metering_2         49823 non-null  object \n",
            " 8   Sub_metering_3         49823 non-null  float64\n",
            "dtypes: float64(1), object(8)\n",
            "memory usage: 3.8+ MB\n"
          ]
        }
      ]
    },
    {
      "cell_type": "code",
      "source": [
        "### checking values in Sub_metering_1 feature \n",
        "\n",
        "# observation: all values are integers but in float data type so can be converted to int data type\n",
        "data_sample.Sub_metering_1.unique()"
      ],
      "metadata": {
        "id": "DDpgJrHkgoko",
        "colab": {
          "base_uri": "https://localhost:8080/"
        },
        "outputId": "f8f0873f-1bcf-424a-cb50-ed24dea880b2"
      },
      "execution_count": null,
      "outputs": [
        {
          "output_type": "execute_result",
          "data": {
            "text/plain": [
              "array(['0.000', '1.000', '20.000', '2.000', '37.000', '36.000', '38.000',\n",
              "       '39.000', '23.000', '35.000', '16.000', '17.000', '33.000',\n",
              "       '19.000', '18.000', '21.000', '22.000', '29.000', '6.000',\n",
              "       '32.000', '11.000', '27.000', '4.000', '14.000', '12.000',\n",
              "       '42.000', '31.000', '40.000', '5.000', '28.000', '3.000', '26.000',\n",
              "       '13.000', '44.000', '48.000', '7.000', '30.000', '68.000',\n",
              "       '72.000', '24.000', '43.000', '15.000', '8.000', '34.000',\n",
              "       '10.000', '75.000', '74.000', '9.000', '25.000', '41.000',\n",
              "       '45.000', '50.000', '80.000', '64.000', '76.000', '49.000',\n",
              "       '56.000', '78.000', '71.000', '73.000', '51.000'], dtype=object)"
            ]
          },
          "metadata": {},
          "execution_count": 92
        }
      ]
    },
    {
      "cell_type": "markdown",
      "source": [
        "Because of Float Values 0.000 Value is also considered as a number so null values are not Visible therefore we do the converstion of float to String \n",
        "to get the Nan values and then it will be easy to drop the values in integer format "
      ],
      "metadata": {
        "id": "uY2UrYEhqM7r"
      }
    },
    {
      "cell_type": "code",
      "source": [
        "### checking values in Sub_metering_2 feature \n",
        "\n",
        "# observation: all values are integers but in float data type so can be converted to int data type\n",
        "data_sample.Sub_metering_2.unique()"
      ],
      "metadata": {
        "id": "DKLZYlH_hQ8d",
        "colab": {
          "base_uri": "https://localhost:8080/"
        },
        "outputId": "eeb86a50-562e-4759-fd39-389b687e59d4"
      },
      "execution_count": null,
      "outputs": [
        {
          "output_type": "execute_result",
          "data": {
            "text/plain": [
              "array(['0.000', '2.000', '1.000', '38.000', '25.000', '7.000', '36.000',\n",
              "       '39.000', '17.000', '20.000', '33.000', '35.000', '21.000',\n",
              "       '30.000', '31.000', '5.000', '22.000', '72.000', '9.000', '3.000',\n",
              "       '37.000', '4.000', '71.000', '24.000', '75.000', '11.000',\n",
              "       '32.000', '6.000', '18.000', '28.000', '34.000', '27.000',\n",
              "       '15.000', '12.000', '29.000', '26.000', '73.000', '40.000',\n",
              "       '8.000', '70.000', '13.000', '23.000', '51.000', '16.000',\n",
              "       '41.000', '74.000', '19.000', '62.000', '56.000', '64.000',\n",
              "       '42.000', '14.000', '59.000', '60.000', '48.000', '67.000',\n",
              "       '10.000', '66.000', '58.000', '65.000', '45.000', '57.000',\n",
              "       '46.000', '61.000', '44.000', '68.000', '54.000', '55.000',\n",
              "       '43.000', '69.000', '53.000', '52.000', '50.000', '63.000'],\n",
              "      dtype=object)"
            ]
          },
          "metadata": {},
          "execution_count": 93
        }
      ]
    },
    {
      "cell_type": "code",
      "source": [
        "### checking values in Sub_metering_3 feature\n",
        " \n",
        "# observation: all values are integers but in float data type so can be converted to int data type\n",
        "data_sample.Sub_metering_3.unique()"
      ],
      "metadata": {
        "id": "THusVU4EhX8v",
        "colab": {
          "base_uri": "https://localhost:8080/"
        },
        "outputId": "9a19dff7-1d3e-40a1-e65d-b75f712c0dc0"
      },
      "execution_count": null,
      "outputs": [
        {
          "output_type": "execute_result",
          "data": {
            "text/plain": [
              "array([ 0.,  1., 18., 17., 28., 19., 30., 16.,  9., 12., 11., 10.,  7.,\n",
              "       15.,  2., 24., 14., 13., 27., 29., 22.,  5.,  3.,  8.,  6.,  4.,\n",
              "       25., 31., 20., 21., 23., 26.])"
            ]
          },
          "metadata": {},
          "execution_count": 94
        }
      ]
    },
    {
      "cell_type": "code",
      "source": [
        "### converting to str datatype so replace function can be used.\n",
        "data_sample['Sub_metering_3']= data_sample['Sub_metering_3'].astype(str)"
      ],
      "metadata": {
        "id": "eg1FIiTph9Wu"
      },
      "execution_count": null,
      "outputs": []
    },
    {
      "cell_type": "code",
      "source": [
        "data_sample.Sub_metering_3.unique()"
      ],
      "metadata": {
        "id": "Vl_HGFRvjhh-",
        "colab": {
          "base_uri": "https://localhost:8080/"
        },
        "outputId": "7af2ea33-22f6-4c94-bd07-a4533472f7a8"
      },
      "execution_count": null,
      "outputs": [
        {
          "output_type": "execute_result",
          "data": {
            "text/plain": [
              "array(['0.0', '1.0', '18.0', '17.0', '28.0', '19.0', '30.0', '16.0',\n",
              "       '9.0', '12.0', '11.0', '10.0', '7.0', '15.0', '2.0', '24.0',\n",
              "       '14.0', '13.0', '27.0', '29.0', '22.0', '5.0', '3.0', '8.0', '6.0',\n",
              "       '4.0', '25.0', '31.0', '20.0', '21.0', '23.0', '26.0'],\n",
              "      dtype=object)"
            ]
          },
          "metadata": {},
          "execution_count": 96
        }
      ]
    },
    {
      "cell_type": "code",
      "source": [
        "# Converting float to string and then spliting depending upon the index number.\n",
        "data_sample['Sub_metering_1']= data_sample['Sub_metering_1'].str.split(\".\", expand=True)[0] # [0] is used for indexing\n",
        "data_sample['Sub_metering_2']= data_sample['Sub_metering_2'].str.split(\".\", expand=True)[0]\n",
        "data_sample['Sub_metering_3']= data_sample['Sub_metering_3'].str.split(\".\", expand=True)[0]\n",
        "\n"
      ],
      "metadata": {
        "id": "5Q3Fax3djp8y"
      },
      "execution_count": null,
      "outputs": []
    },
    {
      "cell_type": "markdown",
      "source": [
        " \"2.0\" as the value is converted in string the indexing itself starts from 0 hence 2 is the 0th index \n",
        "as mentioned in the code [0] == 2 helps in fatching the value.(where . is also considered as a part of index )"
      ],
      "metadata": {
        "id": "fgn93ateqWiv"
      }
    },
    {
      "cell_type": "code",
      "source": [
        "### checking integer values\n",
        "data_sample.Sub_metering_1.unique()"
      ],
      "metadata": {
        "id": "cm6aBJgumXXd",
        "colab": {
          "base_uri": "https://localhost:8080/"
        },
        "outputId": "bfdbe384-cd76-4345-fb83-1111d373809a"
      },
      "execution_count": null,
      "outputs": [
        {
          "output_type": "execute_result",
          "data": {
            "text/plain": [
              "array(['0', '1', '20', '2', '37', '36', '38', '39', '23', '35', '16',\n",
              "       '17', '33', '19', '18', '21', '22', '29', '6', '32', '11', '27',\n",
              "       '4', '14', '12', '42', '31', '40', '5', '28', '3', '26', '13',\n",
              "       '44', '48', '7', '30', '68', '72', '24', '43', '15', '8', '34',\n",
              "       '10', '75', '74', '9', '25', '41', '45', '50', '80', '64', '76',\n",
              "       '49', '56', '78', '71', '73', '51'], dtype=object)"
            ]
          },
          "metadata": {},
          "execution_count": 98
        }
      ]
    },
    {
      "cell_type": "code",
      "source": [
        "### checking integer values\n",
        "data_sample.Sub_metering_2.unique()\n"
      ],
      "metadata": {
        "id": "7sBydsyPmudO",
        "colab": {
          "base_uri": "https://localhost:8080/"
        },
        "outputId": "40f77278-3b74-4cc8-b6c2-7aef476b1944"
      },
      "execution_count": null,
      "outputs": [
        {
          "output_type": "execute_result",
          "data": {
            "text/plain": [
              "array(['0', '2', '1', '38', '25', '7', '36', '39', '17', '20', '33', '35',\n",
              "       '21', '30', '31', '5', '22', '72', '9', '3', '37', '4', '71', '24',\n",
              "       '75', '11', '32', '6', '18', '28', '34', '27', '15', '12', '29',\n",
              "       '26', '73', '40', '8', '70', '13', '23', '51', '16', '41', '74',\n",
              "       '19', '62', '56', '64', '42', '14', '59', '60', '48', '67', '10',\n",
              "       '66', '58', '65', '45', '57', '46', '61', '44', '68', '54', '55',\n",
              "       '43', '69', '53', '52', '50', '63'], dtype=object)"
            ]
          },
          "metadata": {},
          "execution_count": 99
        }
      ]
    },
    {
      "cell_type": "code",
      "source": [
        "### checking integer values\n",
        "data_sample.Sub_metering_3.unique()"
      ],
      "metadata": {
        "id": "hOpGP1wym2vf",
        "colab": {
          "base_uri": "https://localhost:8080/"
        },
        "outputId": "339b47d3-4baf-401b-bfc8-6570fdb991ef"
      },
      "execution_count": null,
      "outputs": [
        {
          "output_type": "execute_result",
          "data": {
            "text/plain": [
              "array(['0', '1', '18', '17', '28', '19', '30', '16', '9', '12', '11',\n",
              "       '10', '7', '15', '2', '24', '14', '13', '27', '29', '22', '5', '3',\n",
              "       '8', '6', '4', '25', '31', '20', '21', '23', '26'], dtype=object)"
            ]
          },
          "metadata": {},
          "execution_count": 100
        }
      ]
    },
    {
      "cell_type": "code",
      "source": [
        "### checking null values\n",
        "data_sample.isnull().sum()"
      ],
      "metadata": {
        "id": "XPHlMXvkm8lr",
        "colab": {
          "base_uri": "https://localhost:8080/"
        },
        "outputId": "4d72af14-a9a0-4bf1-dd53-c94841dae09e"
      },
      "execution_count": null,
      "outputs": [
        {
          "output_type": "execute_result",
          "data": {
            "text/plain": [
              "Date                     0\n",
              "Time                     0\n",
              "Global_active_power      0\n",
              "Global_reactive_power    0\n",
              "Voltage                  0\n",
              "Global_intensity         0\n",
              "Sub_metering_1           0\n",
              "Sub_metering_2           0\n",
              "Sub_metering_3           0\n",
              "dtype: int64"
            ]
          },
          "metadata": {},
          "execution_count": 101
        }
      ]
    },
    {
      "cell_type": "code",
      "source": [
        "# dropping null values\n",
        "data_sample.dropna(inplace=True)"
      ],
      "metadata": {
        "id": "pnJJkd3lnGKp"
      },
      "execution_count": null,
      "outputs": []
    },
    {
      "cell_type": "code",
      "source": [
        "### checking data type and null values\n",
        "data_sample.info()"
      ],
      "metadata": {
        "id": "h1E4N4PFnNuX",
        "colab": {
          "base_uri": "https://localhost:8080/"
        },
        "outputId": "e466a490-3508-4fad-f4b3-c2f4461515cb"
      },
      "execution_count": null,
      "outputs": [
        {
          "output_type": "stream",
          "name": "stdout",
          "text": [
            "<class 'pandas.core.frame.DataFrame'>\n",
            "Int64Index: 49823 entries, 0 to 49999\n",
            "Data columns (total 9 columns):\n",
            " #   Column                 Non-Null Count  Dtype \n",
            "---  ------                 --------------  ----- \n",
            " 0   Date                   49823 non-null  object\n",
            " 1   Time                   49823 non-null  object\n",
            " 2   Global_active_power    49823 non-null  object\n",
            " 3   Global_reactive_power  49823 non-null  object\n",
            " 4   Voltage                49823 non-null  object\n",
            " 5   Global_intensity       49823 non-null  object\n",
            " 6   Sub_metering_1         49823 non-null  object\n",
            " 7   Sub_metering_2         49823 non-null  object\n",
            " 8   Sub_metering_3         49823 non-null  object\n",
            "dtypes: object(9)\n",
            "memory usage: 3.8+ MB\n"
          ]
        }
      ]
    },
    {
      "cell_type": "code",
      "source": [
        "### creating dict of data type conversion\n",
        "datatypes_convert={'Global_active_power':'float64', 'Global_reactive_power':'float64',\n",
        " 'Voltage':'float64', 'Global_intensity':'float64', 'Sub_metering_1':'int64', 'Sub_metering_2':'int64',\n",
        " 'Sub_metering_3':'int64'}\n"
      ],
      "metadata": {
        "id": "z7l1G_TtnWq_"
      },
      "execution_count": null,
      "outputs": []
    },
    {
      "cell_type": "code",
      "source": [
        "### changing data type of numerical features to float or int\n",
        "data_sample=data_sample.astype(datatypes_convert)\n",
        "data_sample.dtypes"
      ],
      "metadata": {
        "id": "hn8QOMPxiQaT",
        "colab": {
          "base_uri": "https://localhost:8080/"
        },
        "outputId": "856ee322-3b31-4d90-b877-80e45eec12a3"
      },
      "execution_count": null,
      "outputs": [
        {
          "output_type": "execute_result",
          "data": {
            "text/plain": [
              "Date                      object\n",
              "Time                      object\n",
              "Global_active_power      float64\n",
              "Global_reactive_power    float64\n",
              "Voltage                  float64\n",
              "Global_intensity         float64\n",
              "Sub_metering_1             int64\n",
              "Sub_metering_2             int64\n",
              "Sub_metering_3             int64\n",
              "dtype: object"
            ]
          },
          "metadata": {},
          "execution_count": 105
        }
      ]
    },
    {
      "cell_type": "code",
      "source": [
        "### converting datatype of Date feature to datetime\n",
        "data_sample['Date']=pd.to_datetime(data_sample['Date'], format=\"%d/%m/%Y\")\n"
      ],
      "metadata": {
        "id": "50lwNTMsiZgg"
      },
      "execution_count": null,
      "outputs": []
    },
    {
      "cell_type": "code",
      "source": [
        "### seperating day and month, creating new feature for day and month\n",
        "data_sample['day']=data_sample['Date'].dt.day\n",
        "data_sample['month']=data_sample['Date'].dt.month\n"
      ],
      "metadata": {
        "id": "czXt5DDHi6Cu"
      },
      "execution_count": null,
      "outputs": []
    },
    {
      "cell_type": "code",
      "source": [
        "### dropping Time this is not important and Date is already used in day and month\n",
        "data_sample.drop('Time', axis=1, inplace=True)\n",
        "data_sample.drop('Date', axis=1, inplace=True)"
      ],
      "metadata": {
        "id": "638VEqO7i9ny"
      },
      "execution_count": null,
      "outputs": []
    },
    {
      "cell_type": "code",
      "source": [
        "## checking values and features after data cleaning\n",
        "data_sample.head()\n"
      ],
      "metadata": {
        "id": "889ATnXJjB4S",
        "colab": {
          "base_uri": "https://localhost:8080/",
          "height": 206
        },
        "outputId": "89f3a9f4-0c8e-4815-dd4e-a5ac420fb172"
      },
      "execution_count": null,
      "outputs": [
        {
          "output_type": "execute_result",
          "data": {
            "text/plain": [
              "   Global_active_power  Global_reactive_power  Voltage  Global_intensity  \\\n",
              "0                0.486                  0.192   244.90               2.0   \n",
              "1                0.154                  0.122   240.89               0.8   \n",
              "2                1.136                  0.136   240.34               4.8   \n",
              "3                0.338                  0.130   243.90               1.4   \n",
              "4                2.460                  0.046   241.19              10.2   \n",
              "\n",
              "   Sub_metering_1  Sub_metering_2  Sub_metering_3  day  month  \n",
              "0               0               0               0   16      2  \n",
              "1               0               0               0   17      8  \n",
              "2               0               2               1   20      5  \n",
              "3               0               0               0    2      2  \n",
              "4               0               0              18   20     12  "
            ],
            "text/html": [
              "\n",
              "  <div id=\"df-9a5e76bb-bd3f-46db-931b-cf456840b9b4\">\n",
              "    <div class=\"colab-df-container\">\n",
              "      <div>\n",
              "<style scoped>\n",
              "    .dataframe tbody tr th:only-of-type {\n",
              "        vertical-align: middle;\n",
              "    }\n",
              "\n",
              "    .dataframe tbody tr th {\n",
              "        vertical-align: top;\n",
              "    }\n",
              "\n",
              "    .dataframe thead th {\n",
              "        text-align: right;\n",
              "    }\n",
              "</style>\n",
              "<table border=\"1\" class=\"dataframe\">\n",
              "  <thead>\n",
              "    <tr style=\"text-align: right;\">\n",
              "      <th></th>\n",
              "      <th>Global_active_power</th>\n",
              "      <th>Global_reactive_power</th>\n",
              "      <th>Voltage</th>\n",
              "      <th>Global_intensity</th>\n",
              "      <th>Sub_metering_1</th>\n",
              "      <th>Sub_metering_2</th>\n",
              "      <th>Sub_metering_3</th>\n",
              "      <th>day</th>\n",
              "      <th>month</th>\n",
              "    </tr>\n",
              "  </thead>\n",
              "  <tbody>\n",
              "    <tr>\n",
              "      <th>0</th>\n",
              "      <td>0.486</td>\n",
              "      <td>0.192</td>\n",
              "      <td>244.90</td>\n",
              "      <td>2.0</td>\n",
              "      <td>0</td>\n",
              "      <td>0</td>\n",
              "      <td>0</td>\n",
              "      <td>16</td>\n",
              "      <td>2</td>\n",
              "    </tr>\n",
              "    <tr>\n",
              "      <th>1</th>\n",
              "      <td>0.154</td>\n",
              "      <td>0.122</td>\n",
              "      <td>240.89</td>\n",
              "      <td>0.8</td>\n",
              "      <td>0</td>\n",
              "      <td>0</td>\n",
              "      <td>0</td>\n",
              "      <td>17</td>\n",
              "      <td>8</td>\n",
              "    </tr>\n",
              "    <tr>\n",
              "      <th>2</th>\n",
              "      <td>1.136</td>\n",
              "      <td>0.136</td>\n",
              "      <td>240.34</td>\n",
              "      <td>4.8</td>\n",
              "      <td>0</td>\n",
              "      <td>2</td>\n",
              "      <td>1</td>\n",
              "      <td>20</td>\n",
              "      <td>5</td>\n",
              "    </tr>\n",
              "    <tr>\n",
              "      <th>3</th>\n",
              "      <td>0.338</td>\n",
              "      <td>0.130</td>\n",
              "      <td>243.90</td>\n",
              "      <td>1.4</td>\n",
              "      <td>0</td>\n",
              "      <td>0</td>\n",
              "      <td>0</td>\n",
              "      <td>2</td>\n",
              "      <td>2</td>\n",
              "    </tr>\n",
              "    <tr>\n",
              "      <th>4</th>\n",
              "      <td>2.460</td>\n",
              "      <td>0.046</td>\n",
              "      <td>241.19</td>\n",
              "      <td>10.2</td>\n",
              "      <td>0</td>\n",
              "      <td>0</td>\n",
              "      <td>18</td>\n",
              "      <td>20</td>\n",
              "      <td>12</td>\n",
              "    </tr>\n",
              "  </tbody>\n",
              "</table>\n",
              "</div>\n",
              "      <button class=\"colab-df-convert\" onclick=\"convertToInteractive('df-9a5e76bb-bd3f-46db-931b-cf456840b9b4')\"\n",
              "              title=\"Convert this dataframe to an interactive table.\"\n",
              "              style=\"display:none;\">\n",
              "        \n",
              "  <svg xmlns=\"http://www.w3.org/2000/svg\" height=\"24px\"viewBox=\"0 0 24 24\"\n",
              "       width=\"24px\">\n",
              "    <path d=\"M0 0h24v24H0V0z\" fill=\"none\"/>\n",
              "    <path d=\"M18.56 5.44l.94 2.06.94-2.06 2.06-.94-2.06-.94-.94-2.06-.94 2.06-2.06.94zm-11 1L8.5 8.5l.94-2.06 2.06-.94-2.06-.94L8.5 2.5l-.94 2.06-2.06.94zm10 10l.94 2.06.94-2.06 2.06-.94-2.06-.94-.94-2.06-.94 2.06-2.06.94z\"/><path d=\"M17.41 7.96l-1.37-1.37c-.4-.4-.92-.59-1.43-.59-.52 0-1.04.2-1.43.59L10.3 9.45l-7.72 7.72c-.78.78-.78 2.05 0 2.83L4 21.41c.39.39.9.59 1.41.59.51 0 1.02-.2 1.41-.59l7.78-7.78 2.81-2.81c.8-.78.8-2.07 0-2.86zM5.41 20L4 18.59l7.72-7.72 1.47 1.35L5.41 20z\"/>\n",
              "  </svg>\n",
              "      </button>\n",
              "      \n",
              "  <style>\n",
              "    .colab-df-container {\n",
              "      display:flex;\n",
              "      flex-wrap:wrap;\n",
              "      gap: 12px;\n",
              "    }\n",
              "\n",
              "    .colab-df-convert {\n",
              "      background-color: #E8F0FE;\n",
              "      border: none;\n",
              "      border-radius: 50%;\n",
              "      cursor: pointer;\n",
              "      display: none;\n",
              "      fill: #1967D2;\n",
              "      height: 32px;\n",
              "      padding: 0 0 0 0;\n",
              "      width: 32px;\n",
              "    }\n",
              "\n",
              "    .colab-df-convert:hover {\n",
              "      background-color: #E2EBFA;\n",
              "      box-shadow: 0px 1px 2px rgba(60, 64, 67, 0.3), 0px 1px 3px 1px rgba(60, 64, 67, 0.15);\n",
              "      fill: #174EA6;\n",
              "    }\n",
              "\n",
              "    [theme=dark] .colab-df-convert {\n",
              "      background-color: #3B4455;\n",
              "      fill: #D2E3FC;\n",
              "    }\n",
              "\n",
              "    [theme=dark] .colab-df-convert:hover {\n",
              "      background-color: #434B5C;\n",
              "      box-shadow: 0px 1px 3px 1px rgba(0, 0, 0, 0.15);\n",
              "      filter: drop-shadow(0px 1px 2px rgba(0, 0, 0, 0.3));\n",
              "      fill: #FFFFFF;\n",
              "    }\n",
              "  </style>\n",
              "\n",
              "      <script>\n",
              "        const buttonEl =\n",
              "          document.querySelector('#df-9a5e76bb-bd3f-46db-931b-cf456840b9b4 button.colab-df-convert');\n",
              "        buttonEl.style.display =\n",
              "          google.colab.kernel.accessAllowed ? 'block' : 'none';\n",
              "\n",
              "        async function convertToInteractive(key) {\n",
              "          const element = document.querySelector('#df-9a5e76bb-bd3f-46db-931b-cf456840b9b4');\n",
              "          const dataTable =\n",
              "            await google.colab.kernel.invokeFunction('convertToInteractive',\n",
              "                                                     [key], {});\n",
              "          if (!dataTable) return;\n",
              "\n",
              "          const docLinkHtml = 'Like what you see? Visit the ' +\n",
              "            '<a target=\"_blank\" href=https://colab.research.google.com/notebooks/data_table.ipynb>data table notebook</a>'\n",
              "            + ' to learn more about interactive tables.';\n",
              "          element.innerHTML = '';\n",
              "          dataTable['output_type'] = 'display_data';\n",
              "          await google.colab.output.renderOutput(dataTable, element);\n",
              "          const docLink = document.createElement('div');\n",
              "          docLink.innerHTML = docLinkHtml;\n",
              "          element.appendChild(docLink);\n",
              "        }\n",
              "      </script>\n",
              "    </div>\n",
              "  </div>\n",
              "  "
            ]
          },
          "metadata": {},
          "execution_count": 109
        }
      ]
    },
    {
      "cell_type": "code",
      "source": [
        "### checking null values \n",
        "data_sample.isnull().sum()"
      ],
      "metadata": {
        "id": "Wvrag8icjHdA",
        "colab": {
          "base_uri": "https://localhost:8080/"
        },
        "outputId": "ba7e047a-bc4c-49a7-9662-62e653abdbc7"
      },
      "execution_count": null,
      "outputs": [
        {
          "output_type": "execute_result",
          "data": {
            "text/plain": [
              "Global_active_power      0\n",
              "Global_reactive_power    0\n",
              "Voltage                  0\n",
              "Global_intensity         0\n",
              "Sub_metering_1           0\n",
              "Sub_metering_2           0\n",
              "Sub_metering_3           0\n",
              "day                      0\n",
              "month                    0\n",
              "dtype: int64"
            ]
          },
          "metadata": {},
          "execution_count": 110
        }
      ]
    },
    {
      "cell_type": "code",
      "source": [
        "# Checking Data type\n",
        "data_sample.info()"
      ],
      "metadata": {
        "id": "4v6h5yFcjT0C",
        "colab": {
          "base_uri": "https://localhost:8080/"
        },
        "outputId": "1306dcc5-7446-4c64-a413-a515190464f5"
      },
      "execution_count": null,
      "outputs": [
        {
          "output_type": "stream",
          "name": "stdout",
          "text": [
            "<class 'pandas.core.frame.DataFrame'>\n",
            "Int64Index: 49823 entries, 0 to 49999\n",
            "Data columns (total 9 columns):\n",
            " #   Column                 Non-Null Count  Dtype  \n",
            "---  ------                 --------------  -----  \n",
            " 0   Global_active_power    49823 non-null  float64\n",
            " 1   Global_reactive_power  49823 non-null  float64\n",
            " 2   Voltage                49823 non-null  float64\n",
            " 3   Global_intensity       49823 non-null  float64\n",
            " 4   Sub_metering_1         49823 non-null  int64  \n",
            " 5   Sub_metering_2         49823 non-null  int64  \n",
            " 6   Sub_metering_3         49823 non-null  int64  \n",
            " 7   day                    49823 non-null  int64  \n",
            " 8   month                  49823 non-null  int64  \n",
            "dtypes: float64(4), int64(5)\n",
            "memory usage: 3.8 MB\n"
          ]
        }
      ]
    },
    {
      "cell_type": "code",
      "source": [
        "# Till this step Data Cleaning Process is done "
      ],
      "metadata": {
        "id": "-P3UlwDejMdH"
      },
      "execution_count": null,
      "outputs": []
    },
    {
      "cell_type": "markdown",
      "source": [
        "**Creating Dependent Feature **\n",
        "Combining All the Used Power in One Attribute."
      ],
      "metadata": {
        "id": "5VX0VZ1Oj0ec"
      }
    },
    {
      "cell_type": "code",
      "source": [
        "### Creating target feature as Total_power_use which is sum of Sub_metering_1,2 and 3\n",
        "data_sample['Total_power_use']=data_sample['Sub_metering_1']+data_sample['Sub_metering_2']+data_sample['Sub_metering_3']\n",
        "data_sample.head()"
      ],
      "metadata": {
        "id": "Md8HHfJwjbhl",
        "colab": {
          "base_uri": "https://localhost:8080/",
          "height": 206
        },
        "outputId": "138b5f81-05f2-453d-99c2-87be8024d1c6"
      },
      "execution_count": null,
      "outputs": [
        {
          "output_type": "execute_result",
          "data": {
            "text/plain": [
              "   Global_active_power  Global_reactive_power  Voltage  Global_intensity  \\\n",
              "0                0.486                  0.192   244.90               2.0   \n",
              "1                0.154                  0.122   240.89               0.8   \n",
              "2                1.136                  0.136   240.34               4.8   \n",
              "3                0.338                  0.130   243.90               1.4   \n",
              "4                2.460                  0.046   241.19              10.2   \n",
              "\n",
              "   Sub_metering_1  Sub_metering_2  Sub_metering_3  day  month  Total_power_use  \n",
              "0               0               0               0   16      2                0  \n",
              "1               0               0               0   17      8                0  \n",
              "2               0               2               1   20      5                3  \n",
              "3               0               0               0    2      2                0  \n",
              "4               0               0              18   20     12               18  "
            ],
            "text/html": [
              "\n",
              "  <div id=\"df-367e31ad-aeab-40ce-a074-2f9cdecf2926\">\n",
              "    <div class=\"colab-df-container\">\n",
              "      <div>\n",
              "<style scoped>\n",
              "    .dataframe tbody tr th:only-of-type {\n",
              "        vertical-align: middle;\n",
              "    }\n",
              "\n",
              "    .dataframe tbody tr th {\n",
              "        vertical-align: top;\n",
              "    }\n",
              "\n",
              "    .dataframe thead th {\n",
              "        text-align: right;\n",
              "    }\n",
              "</style>\n",
              "<table border=\"1\" class=\"dataframe\">\n",
              "  <thead>\n",
              "    <tr style=\"text-align: right;\">\n",
              "      <th></th>\n",
              "      <th>Global_active_power</th>\n",
              "      <th>Global_reactive_power</th>\n",
              "      <th>Voltage</th>\n",
              "      <th>Global_intensity</th>\n",
              "      <th>Sub_metering_1</th>\n",
              "      <th>Sub_metering_2</th>\n",
              "      <th>Sub_metering_3</th>\n",
              "      <th>day</th>\n",
              "      <th>month</th>\n",
              "      <th>Total_power_use</th>\n",
              "    </tr>\n",
              "  </thead>\n",
              "  <tbody>\n",
              "    <tr>\n",
              "      <th>0</th>\n",
              "      <td>0.486</td>\n",
              "      <td>0.192</td>\n",
              "      <td>244.90</td>\n",
              "      <td>2.0</td>\n",
              "      <td>0</td>\n",
              "      <td>0</td>\n",
              "      <td>0</td>\n",
              "      <td>16</td>\n",
              "      <td>2</td>\n",
              "      <td>0</td>\n",
              "    </tr>\n",
              "    <tr>\n",
              "      <th>1</th>\n",
              "      <td>0.154</td>\n",
              "      <td>0.122</td>\n",
              "      <td>240.89</td>\n",
              "      <td>0.8</td>\n",
              "      <td>0</td>\n",
              "      <td>0</td>\n",
              "      <td>0</td>\n",
              "      <td>17</td>\n",
              "      <td>8</td>\n",
              "      <td>0</td>\n",
              "    </tr>\n",
              "    <tr>\n",
              "      <th>2</th>\n",
              "      <td>1.136</td>\n",
              "      <td>0.136</td>\n",
              "      <td>240.34</td>\n",
              "      <td>4.8</td>\n",
              "      <td>0</td>\n",
              "      <td>2</td>\n",
              "      <td>1</td>\n",
              "      <td>20</td>\n",
              "      <td>5</td>\n",
              "      <td>3</td>\n",
              "    </tr>\n",
              "    <tr>\n",
              "      <th>3</th>\n",
              "      <td>0.338</td>\n",
              "      <td>0.130</td>\n",
              "      <td>243.90</td>\n",
              "      <td>1.4</td>\n",
              "      <td>0</td>\n",
              "      <td>0</td>\n",
              "      <td>0</td>\n",
              "      <td>2</td>\n",
              "      <td>2</td>\n",
              "      <td>0</td>\n",
              "    </tr>\n",
              "    <tr>\n",
              "      <th>4</th>\n",
              "      <td>2.460</td>\n",
              "      <td>0.046</td>\n",
              "      <td>241.19</td>\n",
              "      <td>10.2</td>\n",
              "      <td>0</td>\n",
              "      <td>0</td>\n",
              "      <td>18</td>\n",
              "      <td>20</td>\n",
              "      <td>12</td>\n",
              "      <td>18</td>\n",
              "    </tr>\n",
              "  </tbody>\n",
              "</table>\n",
              "</div>\n",
              "      <button class=\"colab-df-convert\" onclick=\"convertToInteractive('df-367e31ad-aeab-40ce-a074-2f9cdecf2926')\"\n",
              "              title=\"Convert this dataframe to an interactive table.\"\n",
              "              style=\"display:none;\">\n",
              "        \n",
              "  <svg xmlns=\"http://www.w3.org/2000/svg\" height=\"24px\"viewBox=\"0 0 24 24\"\n",
              "       width=\"24px\">\n",
              "    <path d=\"M0 0h24v24H0V0z\" fill=\"none\"/>\n",
              "    <path d=\"M18.56 5.44l.94 2.06.94-2.06 2.06-.94-2.06-.94-.94-2.06-.94 2.06-2.06.94zm-11 1L8.5 8.5l.94-2.06 2.06-.94-2.06-.94L8.5 2.5l-.94 2.06-2.06.94zm10 10l.94 2.06.94-2.06 2.06-.94-2.06-.94-.94-2.06-.94 2.06-2.06.94z\"/><path d=\"M17.41 7.96l-1.37-1.37c-.4-.4-.92-.59-1.43-.59-.52 0-1.04.2-1.43.59L10.3 9.45l-7.72 7.72c-.78.78-.78 2.05 0 2.83L4 21.41c.39.39.9.59 1.41.59.51 0 1.02-.2 1.41-.59l7.78-7.78 2.81-2.81c.8-.78.8-2.07 0-2.86zM5.41 20L4 18.59l7.72-7.72 1.47 1.35L5.41 20z\"/>\n",
              "  </svg>\n",
              "      </button>\n",
              "      \n",
              "  <style>\n",
              "    .colab-df-container {\n",
              "      display:flex;\n",
              "      flex-wrap:wrap;\n",
              "      gap: 12px;\n",
              "    }\n",
              "\n",
              "    .colab-df-convert {\n",
              "      background-color: #E8F0FE;\n",
              "      border: none;\n",
              "      border-radius: 50%;\n",
              "      cursor: pointer;\n",
              "      display: none;\n",
              "      fill: #1967D2;\n",
              "      height: 32px;\n",
              "      padding: 0 0 0 0;\n",
              "      width: 32px;\n",
              "    }\n",
              "\n",
              "    .colab-df-convert:hover {\n",
              "      background-color: #E2EBFA;\n",
              "      box-shadow: 0px 1px 2px rgba(60, 64, 67, 0.3), 0px 1px 3px 1px rgba(60, 64, 67, 0.15);\n",
              "      fill: #174EA6;\n",
              "    }\n",
              "\n",
              "    [theme=dark] .colab-df-convert {\n",
              "      background-color: #3B4455;\n",
              "      fill: #D2E3FC;\n",
              "    }\n",
              "\n",
              "    [theme=dark] .colab-df-convert:hover {\n",
              "      background-color: #434B5C;\n",
              "      box-shadow: 0px 1px 3px 1px rgba(0, 0, 0, 0.15);\n",
              "      filter: drop-shadow(0px 1px 2px rgba(0, 0, 0, 0.3));\n",
              "      fill: #FFFFFF;\n",
              "    }\n",
              "  </style>\n",
              "\n",
              "      <script>\n",
              "        const buttonEl =\n",
              "          document.querySelector('#df-367e31ad-aeab-40ce-a074-2f9cdecf2926 button.colab-df-convert');\n",
              "        buttonEl.style.display =\n",
              "          google.colab.kernel.accessAllowed ? 'block' : 'none';\n",
              "\n",
              "        async function convertToInteractive(key) {\n",
              "          const element = document.querySelector('#df-367e31ad-aeab-40ce-a074-2f9cdecf2926');\n",
              "          const dataTable =\n",
              "            await google.colab.kernel.invokeFunction('convertToInteractive',\n",
              "                                                     [key], {});\n",
              "          if (!dataTable) return;\n",
              "\n",
              "          const docLinkHtml = 'Like what you see? Visit the ' +\n",
              "            '<a target=\"_blank\" href=https://colab.research.google.com/notebooks/data_table.ipynb>data table notebook</a>'\n",
              "            + ' to learn more about interactive tables.';\n",
              "          element.innerHTML = '';\n",
              "          dataTable['output_type'] = 'display_data';\n",
              "          await google.colab.output.renderOutput(dataTable, element);\n",
              "          const docLink = document.createElement('div');\n",
              "          docLink.innerHTML = docLinkHtml;\n",
              "          element.appendChild(docLink);\n",
              "        }\n",
              "      </script>\n",
              "    </div>\n",
              "  </div>\n",
              "  "
            ]
          },
          "metadata": {},
          "execution_count": 113
        }
      ]
    },
    {
      "cell_type": "code",
      "source": [
        "### saving cleaned dataset to csv\n",
        "data_sample.to_csv('household_power_consumption_cleaned.csv', index=False)\n"
      ],
      "metadata": {
        "id": "W_E-I04rkGM-"
      },
      "execution_count": null,
      "outputs": []
    },
    {
      "cell_type": "markdown",
      "source": [
        "# 5. EDA"
      ],
      "metadata": {
        "id": "yl5h9EYMq2oX"
      }
    },
    {
      "cell_type": "code",
      "source": [
        "### Getting difference in min and max values of feature\n",
        "data_sample.max()-data_sample.min()"
      ],
      "metadata": {
        "id": "vSYhl3fqky5-",
        "colab": {
          "base_uri": "https://localhost:8080/"
        },
        "outputId": "f378d66d-f76a-4f8a-d7a1-8c2870e2df07"
      },
      "execution_count": null,
      "outputs": [
        {
          "output_type": "execute_result",
          "data": {
            "text/plain": [
              "Global_active_power        9.998\n",
              "Global_reactive_power      1.148\n",
              "Voltage                   28.220\n",
              "Global_intensity          43.200\n",
              "Sub_metering_1            80.000\n",
              "Sub_metering_2            75.000\n",
              "Sub_metering_3            31.000\n",
              "day                       30.000\n",
              "month                     11.000\n",
              "Total_power_use          127.000\n",
              "dtype: float64"
            ]
          },
          "metadata": {},
          "execution_count": 115
        }
      ]
    },
    {
      "cell_type": "markdown",
      "source": [
        "Numerical Feature "
      ],
      "metadata": {
        "id": "894mM_KuooxW"
      }
    },
    {
      "cell_type": "code",
      "source": [
        "### Getting list of numerical features\n",
        "numerical_features=data_sample.columns\n",
        "print(numerical_features)"
      ],
      "metadata": {
        "id": "ZL_LK8UinLJm",
        "colab": {
          "base_uri": "https://localhost:8080/"
        },
        "outputId": "f3ee3446-39df-4a7f-a5c3-59222dcfd3e3"
      },
      "execution_count": null,
      "outputs": [
        {
          "output_type": "stream",
          "name": "stdout",
          "text": [
            "Index(['Global_active_power', 'Global_reactive_power', 'Voltage',\n",
            "       'Global_intensity', 'Sub_metering_1', 'Sub_metering_2',\n",
            "       'Sub_metering_3', 'day', 'month', 'Total_power_use'],\n",
            "      dtype='object')\n"
          ]
        }
      ]
    },
    {
      "cell_type": "code",
      "source": [
        "### getting count of unique values in each numerical feature\n",
        "for feature in numerical_features:\n",
        " print(\"Feature {} has {} no. of unique values\".format(feature, data_sample[feature].nunique()))"
      ],
      "metadata": {
        "id": "geyUjejzo08H",
        "colab": {
          "base_uri": "https://localhost:8080/"
        },
        "outputId": "b8c18b59-820e-4936-ba22-7cc93f9ad1eb"
      },
      "execution_count": null,
      "outputs": [
        {
          "output_type": "stream",
          "name": "stdout",
          "text": [
            "Feature Global_active_power has 2768 no. of unique values\n",
            "Feature Global_reactive_power has 344 no. of unique values\n",
            "Feature Voltage has 2102 no. of unique values\n",
            "Feature Global_intensity has 178 no. of unique values\n",
            "Feature Sub_metering_1 has 61 no. of unique values\n",
            "Feature Sub_metering_2 has 74 no. of unique values\n",
            "Feature Sub_metering_3 has 32 no. of unique values\n",
            "Feature day has 31 no. of unique values\n",
            "Feature month has 12 no. of unique values\n",
            "Feature Total_power_use has 108 no. of unique values\n"
          ]
        }
      ]
    },
    {
      "cell_type": "markdown",
      "source": [
        "Checking Outliers"
      ],
      "metadata": {
        "id": "SCFTVfWapwD-"
      }
    },
    {
      "cell_type": "code",
      "source": [
        "### Method 1: Checking outliers in numerical features\n",
        "plt.figure(figsize=(20,30))\n",
        "for i in enumerate(data_sample):\n",
        " plt.subplot(5, 2, i[0]+1)\n",
        " sns.set(rc={'figure.figsize':(10,6)})\n",
        " sns.boxplot(data=data_sample, x=i[1], color='pink')\n",
        " plt.title(\"{}\".format(i[1]), fontweight=\"bold\")\n"
      ],
      "metadata": {
        "id": "2ZCYXxAyo-jF",
        "colab": {
          "base_uri": "https://localhost:8080/",
          "height": 1000
        },
        "outputId": "8d074206-43b8-4e1d-bea3-a447059215d4"
      },
      "execution_count": null,
      "outputs": [
        {
          "output_type": "display_data",
          "data": {
            "text/plain": [
              "<Figure size 2000x3000 with 10 Axes>"
            ],
            "image/png": "[encoded data removed]"
          },
          "metadata": {}
        }
      ]
    },
    {
      "cell_type": "code",
      "source": [
        "### Method 2:\n",
        "\n",
        "for i in data_sample.columns:   \n",
        "    data_sample.boxplot(column=i)   \n",
        "    plt.show()"
      ],
      "metadata": {
        "id": "_Gc1yeFzqEiG",
        "colab": {
          "base_uri": "https://localhost:8080/",
          "height": 1000
        },
        "outputId": "1a285fcd-ecae-4457-ff45-6d4bcef05263"
      },
      "execution_count": null,
      "outputs": [
        {
          "output_type": "display_data",
          "data": {
            "text/plain": [
              "<Figure size 1000x600 with 1 Axes>"
            ],
            "image/png": "[encoded data removed]"
          },
          "metadata": {}
        },
        {
          "output_type": "display_data",
          "data": {
            "text/plain": [
              "<Figure size 1000x600 with 1 Axes>"
            ],
            "image/png": "[encoded data removed]"
          },
          "metadata": {}
        },
        {
          "output_type": "display_data",
          "data": {
            "text/plain": [
              "<Figure size 1000x600 with 1 Axes>"
            ],
            "image/png": "[encoded data removed]"
          },
          "metadata": {}
        },
        {
          "output_type": "display_data",
          "data": {
            "text/plain": [
              "<Figure size 1000x600 with 1 Axes>"
            ],
            "image/png": "[encoded data removed]"
          },
          "metadata": {}
        },
        {
          "output_type": "display_data",
          "data": {
            "text/plain": [
              "<Figure size 1000x600 with 1 Axes>"
            ],
            "image/png": "[encoded data removed]"
          },
          "metadata": {}
        },
        {
          "output_type": "display_data",
          "data": {
            "text/plain": [
              "<Figure size 1000x600 with 1 Axes>"
            ],
            "image/png": "[encoded data removed]"
          },
          "metadata": {}
        },
        {
          "output_type": "display_data",
          "data": {
            "text/plain": [
              "<Figure size 1000x600 with 1 Axes>"
            ],
            "image/png": "[encoded data removed]"
          },
          "metadata": {}
        },
        {
          "output_type": "display_data",
          "data": {
            "text/plain": [
              "<Figure size 1000x600 with 1 Axes>"
            ],
            "image/png": "[encoded data removed]"
          },
          "metadata": {}
        },
        {
          "output_type": "display_data",
          "data": {
            "text/plain": [
              "<Figure size 1000x600 with 1 Axes>"
            ],
            "image/png": "[encoded data removed]"
          },
          "metadata": {}
        },
        {
          "output_type": "display_data",
          "data": {
            "text/plain": [
              "<Figure size 1000x600 with 1 Axes>"
            ],
            "image/png": "[encoded data removed]"
          },
          "metadata": {}
        }
      ]
    },
    {
      "cell_type": "markdown",
      "source": [
        "**Correlation and Heat Map**"
      ],
      "metadata": {
        "id": "RoWW6GWRrJXW"
      }
    },
    {
      "cell_type": "code",
      "source": [
        "corr=round(data_sample.corr(),2)\n",
        "corr"
      ],
      "metadata": {
        "id": "YQuC-6MOqkUz",
        "colab": {
          "base_uri": "https://localhost:8080/",
          "height": 363
        },
        "outputId": "af42a5eb-98d9-48b5-902c-bd6969fc89b2"
      },
      "execution_count": null,
      "outputs": [
        {
          "output_type": "execute_result",
          "data": {
            "text/plain": [
              "                       Global_active_power  Global_reactive_power  Voltage  \\\n",
              "Global_active_power                   1.00                   0.26    -0.39   \n",
              "Global_reactive_power                 0.26                   1.00    -0.14   \n",
              "Voltage                              -0.39                  -0.14     1.00   \n",
              "Global_intensity                      1.00                   0.28    -0.41   \n",
              "Sub_metering_1                        0.48                   0.13    -0.20   \n",
              "Sub_metering_2                        0.46                   0.16    -0.17   \n",
              "Sub_metering_3                        0.62                   0.09    -0.28   \n",
              "day                                   0.00                  -0.01     0.04   \n",
              "month                                -0.03                  -0.00    -0.04   \n",
              "Total_power_use                       0.84                   0.19    -0.35   \n",
              "\n",
              "                       Global_intensity  Sub_metering_1  Sub_metering_2  \\\n",
              "Global_active_power                1.00            0.48            0.46   \n",
              "Global_reactive_power              0.28            0.13            0.16   \n",
              "Voltage                           -0.41           -0.20           -0.17   \n",
              "Global_intensity                   1.00            0.49            0.46   \n",
              "Sub_metering_1                     0.49            1.00            0.06   \n",
              "Sub_metering_2                     0.46            0.06            1.00   \n",
              "Sub_metering_3                     0.61            0.11            0.11   \n",
              "day                               -0.00           -0.01           -0.00   \n",
              "month                             -0.03           -0.01           -0.01   \n",
              "Total_power_use                    0.83            0.58            0.57   \n",
              "\n",
              "                       Sub_metering_3   day  month  Total_power_use  \n",
              "Global_active_power              0.62  0.00  -0.03             0.84  \n",
              "Global_reactive_power            0.09 -0.01  -0.00             0.19  \n",
              "Voltage                         -0.28  0.04  -0.04            -0.35  \n",
              "Global_intensity                 0.61 -0.00  -0.03             0.83  \n",
              "Sub_metering_1                   0.11 -0.01  -0.01             0.58  \n",
              "Sub_metering_2                   0.11 -0.00  -0.01             0.57  \n",
              "Sub_metering_3                   1.00 -0.00  -0.02             0.72  \n",
              "day                             -0.00  1.00   0.05            -0.00  \n",
              "month                           -0.02  0.05   1.00            -0.02  \n",
              "Total_power_use                  0.72 -0.00  -0.02             1.00  "
            ],
            "text/html": [
              "\n",
              "  <div id=\"df-a0b13155-aa9c-4e42-841f-58ff8696eba5\">\n",
              "    <div class=\"colab-df-container\">\n",
              "      <div>\n",
              "<style scoped>\n",
              "    .dataframe tbody tr th:only-of-type {\n",
              "        vertical-align: middle;\n",
              "    }\n",
              "\n",
              "    .dataframe tbody tr th {\n",
              "        vertical-align: top;\n",
              "    }\n",
              "\n",
              "    .dataframe thead th {\n",
              "        text-align: right;\n",
              "    }\n",
              "</style>\n",
              "<table border=\"1\" class=\"dataframe\">\n",
              "  <thead>\n",
              "    <tr style=\"text-align: right;\">\n",
              "      <th></th>\n",
              "      <th>Global_active_power</th>\n",
              "      <th>Global_reactive_power</th>\n",
              "      <th>Voltage</th>\n",
              "      <th>Global_intensity</th>\n",
              "      <th>Sub_metering_1</th>\n",
              "      <th>Sub_metering_2</th>\n",
              "      <th>Sub_metering_3</th>\n",
              "      <th>day</th>\n",
              "      <th>month</th>\n",
              "      <th>Total_power_use</th>\n",
              "    </tr>\n",
              "  </thead>\n",
              "  <tbody>\n",
              "    <tr>\n",
              "      <th>Global_active_power</th>\n",
              "      <td>1.00</td>\n",
              "      <td>0.26</td>\n",
              "      <td>-0.39</td>\n",
              "      <td>1.00</td>\n",
              "      <td>0.48</td>\n",
              "      <td>0.46</td>\n",
              "      <td>0.62</td>\n",
              "      <td>0.00</td>\n",
              "      <td>-0.03</td>\n",
              "      <td>0.84</td>\n",
              "    </tr>\n",
              "    <tr>\n",
              "      <th>Global_reactive_power</th>\n",
              "      <td>0.26</td>\n",
              "      <td>1.00</td>\n",
              "      <td>-0.14</td>\n",
              "      <td>0.28</td>\n",
              "      <td>0.13</td>\n",
              "      <td>0.16</td>\n",
              "      <td>0.09</td>\n",
              "      <td>-0.01</td>\n",
              "      <td>-0.00</td>\n",
              "      <td>0.19</td>\n",
              "    </tr>\n",
              "    <tr>\n",
              "      <th>Voltage</th>\n",
              "      <td>-0.39</td>\n",
              "      <td>-0.14</td>\n",
              "      <td>1.00</td>\n",
              "      <td>-0.41</td>\n",
              "      <td>-0.20</td>\n",
              "      <td>-0.17</td>\n",
              "      <td>-0.28</td>\n",
              "      <td>0.04</td>\n",
              "      <td>-0.04</td>\n",
              "      <td>-0.35</td>\n",
              "    </tr>\n",
              "    <tr>\n",
              "      <th>Global_intensity</th>\n",
              "      <td>1.00</td>\n",
              "      <td>0.28</td>\n",
              "      <td>-0.41</td>\n",
              "      <td>1.00</td>\n",
              "      <td>0.49</td>\n",
              "      <td>0.46</td>\n",
              "      <td>0.61</td>\n",
              "      <td>-0.00</td>\n",
              "      <td>-0.03</td>\n",
              "      <td>0.83</td>\n",
              "    </tr>\n",
              "    <tr>\n",
              "      <th>Sub_metering_1</th>\n",
              "      <td>0.48</td>\n",
              "      <td>0.13</td>\n",
              "      <td>-0.20</td>\n",
              "      <td>0.49</td>\n",
              "      <td>1.00</td>\n",
              "      <td>0.06</td>\n",
              "      <td>0.11</td>\n",
              "      <td>-0.01</td>\n",
              "      <td>-0.01</td>\n",
              "      <td>0.58</td>\n",
              "    </tr>\n",
              "    <tr>\n",
              "      <th>Sub_metering_2</th>\n",
              "      <td>0.46</td>\n",
              "      <td>0.16</td>\n",
              "      <td>-0.17</td>\n",
              "      <td>0.46</td>\n",
              "      <td>0.06</td>\n",
              "      <td>1.00</td>\n",
              "      <td>0.11</td>\n",
              "      <td>-0.00</td>\n",
              "      <td>-0.01</td>\n",
              "      <td>0.57</td>\n",
              "    </tr>\n",
              "    <tr>\n",
              "      <th>Sub_metering_3</th>\n",
              "      <td>0.62</td>\n",
              "      <td>0.09</td>\n",
              "      <td>-0.28</td>\n",
              "      <td>0.61</td>\n",
              "      <td>0.11</td>\n",
              "      <td>0.11</td>\n",
              "      <td>1.00</td>\n",
              "      <td>-0.00</td>\n",
              "      <td>-0.02</td>\n",
              "      <td>0.72</td>\n",
              "    </tr>\n",
              "    <tr>\n",
              "      <th>day</th>\n",
              "      <td>0.00</td>\n",
              "      <td>-0.01</td>\n",
              "      <td>0.04</td>\n",
              "      <td>-0.00</td>\n",
              "      <td>-0.01</td>\n",
              "      <td>-0.00</td>\n",
              "      <td>-0.00</td>\n",
              "      <td>1.00</td>\n",
              "      <td>0.05</td>\n",
              "      <td>-0.00</td>\n",
              "    </tr>\n",
              "    <tr>\n",
              "      <th>month</th>\n",
              "      <td>-0.03</td>\n",
              "      <td>-0.00</td>\n",
              "      <td>-0.04</td>\n",
              "      <td>-0.03</td>\n",
              "      <td>-0.01</td>\n",
              "      <td>-0.01</td>\n",
              "      <td>-0.02</td>\n",
              "      <td>0.05</td>\n",
              "      <td>1.00</td>\n",
              "      <td>-0.02</td>\n",
              "    </tr>\n",
              "    <tr>\n",
              "      <th>Total_power_use</th>\n",
              "      <td>0.84</td>\n",
              "      <td>0.19</td>\n",
              "      <td>-0.35</td>\n",
              "      <td>0.83</td>\n",
              "      <td>0.58</td>\n",
              "      <td>0.57</td>\n",
              "      <td>0.72</td>\n",
              "      <td>-0.00</td>\n",
              "      <td>-0.02</td>\n",
              "      <td>1.00</td>\n",
              "    </tr>\n",
              "  </tbody>\n",
              "</table>\n",
              "</div>\n",
              "      <button class=\"colab-df-convert\" onclick=\"convertToInteractive('df-a0b13155-aa9c-4e42-841f-58ff8696eba5')\"\n",
              "              title=\"Convert this dataframe to an interactive table.\"\n",
              "              style=\"display:none;\">\n",
              "        \n",
              "  <svg xmlns=\"http://www.w3.org/2000/svg\" height=\"24px\"viewBox=\"0 0 24 24\"\n",
              "       width=\"24px\">\n",
              "    <path d=\"M0 0h24v24H0V0z\" fill=\"none\"/>\n",
              "    <path d=\"M18.56 5.44l.94 2.06.94-2.06 2.06-.94-2.06-.94-.94-2.06-.94 2.06-2.06.94zm-11 1L8.5 8.5l.94-2.06 2.06-.94-2.06-.94L8.5 2.5l-.94 2.06-2.06.94zm10 10l.94 2.06.94-2.06 2.06-.94-2.06-.94-.94-2.06-.94 2.06-2.06.94z\"/><path d=\"M17.41 7.96l-1.37-1.37c-.4-.4-.92-.59-1.43-.59-.52 0-1.04.2-1.43.59L10.3 9.45l-7.72 7.72c-.78.78-.78 2.05 0 2.83L4 21.41c.39.39.9.59 1.41.59.51 0 1.02-.2 1.41-.59l7.78-7.78 2.81-2.81c.8-.78.8-2.07 0-2.86zM5.41 20L4 18.59l7.72-7.72 1.47 1.35L5.41 20z\"/>\n",
              "  </svg>\n",
              "      </button>\n",
              "      \n",
              "  <style>\n",
              "    .colab-df-container {\n",
              "      display:flex;\n",
              "      flex-wrap:wrap;\n",
              "      gap: 12px;\n",
              "    }\n",
              "\n",
              "    .colab-df-convert {\n",
              "      background-color: #E8F0FE;\n",
              "      border: none;\n",
              "      border-radius: 50%;\n",
              "      cursor: pointer;\n",
              "      display: none;\n",
              "      fill: #1967D2;\n",
              "      height: 32px;\n",
              "      padding: 0 0 0 0;\n",
              "      width: 32px;\n",
              "    }\n",
              "\n",
              "    .colab-df-convert:hover {\n",
              "      background-color: #E2EBFA;\n",
              "      box-shadow: 0px 1px 2px rgba(60, 64, 67, 0.3), 0px 1px 3px 1px rgba(60, 64, 67, 0.15);\n",
              "      fill: #174EA6;\n",
              "    }\n",
              "\n",
              "    [theme=dark] .colab-df-convert {\n",
              "      background-color: #3B4455;\n",
              "      fill: #D2E3FC;\n",
              "    }\n",
              "\n",
              "    [theme=dark] .colab-df-convert:hover {\n",
              "      background-color: #434B5C;\n",
              "      box-shadow: 0px 1px 3px 1px rgba(0, 0, 0, 0.15);\n",
              "      filter: drop-shadow(0px 1px 2px rgba(0, 0, 0, 0.3));\n",
              "      fill: #FFFFFF;\n",
              "    }\n",
              "  </style>\n",
              "\n",
              "      <script>\n",
              "        const buttonEl =\n",
              "          document.querySelector('#df-a0b13155-aa9c-4e42-841f-58ff8696eba5 button.colab-df-convert');\n",
              "        buttonEl.style.display =\n",
              "          google.colab.kernel.accessAllowed ? 'block' : 'none';\n",
              "\n",
              "        async function convertToInteractive(key) {\n",
              "          const element = document.querySelector('#df-a0b13155-aa9c-4e42-841f-58ff8696eba5');\n",
              "          const dataTable =\n",
              "            await google.colab.kernel.invokeFunction('convertToInteractive',\n",
              "                                                     [key], {});\n",
              "          if (!dataTable) return;\n",
              "\n",
              "          const docLinkHtml = 'Like what you see? Visit the ' +\n",
              "            '<a target=\"_blank\" href=https://colab.research.google.com/notebooks/data_table.ipynb>data table notebook</a>'\n",
              "            + ' to learn more about interactive tables.';\n",
              "          element.innerHTML = '';\n",
              "          dataTable['output_type'] = 'display_data';\n",
              "          await google.colab.output.renderOutput(dataTable, element);\n",
              "          const docLink = document.createElement('div');\n",
              "          docLink.innerHTML = docLinkHtml;\n",
              "          element.appendChild(docLink);\n",
              "        }\n",
              "      </script>\n",
              "    </div>\n",
              "  </div>\n",
              "  "
            ]
          },
          "metadata": {},
          "execution_count": 120
        }
      ]
    },
    {
      "cell_type": "code",
      "source": [
        "### Plotting heatmap for visualising the correlation between features\n",
        "sns.set(rc={'figure.figsize':(10,10)})\n",
        "sns.heatmap(data=corr, annot=True, vmin=-1, vmax=1, cmap=\"YlGnBu\")"
      ],
      "metadata": {
        "id": "YUNRdhCKrUYs",
        "colab": {
          "base_uri": "https://localhost:8080/",
          "height": 1000
        },
        "outputId": "cbe7dc81-46e8-4643-f9da-8d5c58b3b349"
      },
      "execution_count": null,
      "outputs": [
        {
          "output_type": "execute_result",
          "data": {
            "text/plain": [
              "<Axes: >"
            ]
          },
          "metadata": {},
          "execution_count": 121
        },
        {
          "output_type": "display_data",
          "data": {
            "text/plain": [
              "<Figure size 1000x1000 with 2 Axes>"
            ],
            "image/png": "[encoded data removed]"
          },
          "metadata": {}
        }
      ]
    },
    {
      "cell_type": "markdown",
      "source": [
        "From above heatmap we can see that there's a lack of correlation between the columns in this data. However, there is some correlation between Total_power_use and Global_active_power,etc."
      ],
      "metadata": {
        "id": "9dbPWH1Osjky"
      }
    },
    {
      "cell_type": "markdown",
      "source": [
        "**Creating X and Y**"
      ],
      "metadata": {
        "id": "pWm11a3Zvv_f"
      }
    },
    {
      "cell_type": "code",
      "source": [
        "### Splitting data into independent feature dataframe and dependent feature series\n",
        "X=data_sample.iloc[:,:-1]\n",
        "y=data_sample.iloc[:,-1]\n",
        "X.head()"
      ],
      "metadata": {
        "id": "C_PntJ4zshba",
        "colab": {
          "base_uri": "https://localhost:8080/",
          "height": 206
        },
        "outputId": "3c92aa20-838c-4c64-875c-2a61fa77ad1e"
      },
      "execution_count": null,
      "outputs": [
        {
          "output_type": "execute_result",
          "data": {
            "text/plain": [
              "   Global_active_power  Global_reactive_power  Voltage  Global_intensity  \\\n",
              "0                0.486                  0.192   244.90               2.0   \n",
              "1                0.154                  0.122   240.89               0.8   \n",
              "2                1.136                  0.136   240.34               4.8   \n",
              "3                0.338                  0.130   243.90               1.4   \n",
              "4                2.460                  0.046   241.19              10.2   \n",
              "\n",
              "   Sub_metering_1  Sub_metering_2  Sub_metering_3  day  month  \n",
              "0               0               0               0   16      2  \n",
              "1               0               0               0   17      8  \n",
              "2               0               2               1   20      5  \n",
              "3               0               0               0    2      2  \n",
              "4               0               0              18   20     12  "
            ],
            "text/html": [
              "\n",
              "  <div id=\"df-39ac965f-8967-4b13-b508-4bc3ae7bd4e6\">\n",
              "    <div class=\"colab-df-container\">\n",
              "      <div>\n",
              "<style scoped>\n",
              "    .dataframe tbody tr th:only-of-type {\n",
              "        vertical-align: middle;\n",
              "    }\n",
              "\n",
              "    .dataframe tbody tr th {\n",
              "        vertical-align: top;\n",
              "    }\n",
              "\n",
              "    .dataframe thead th {\n",
              "        text-align: right;\n",
              "    }\n",
              "</style>\n",
              "<table border=\"1\" class=\"dataframe\">\n",
              "  <thead>\n",
              "    <tr style=\"text-align: right;\">\n",
              "      <th></th>\n",
              "      <th>Global_active_power</th>\n",
              "      <th>Global_reactive_power</th>\n",
              "      <th>Voltage</th>\n",
              "      <th>Global_intensity</th>\n",
              "      <th>Sub_metering_1</th>\n",
              "      <th>Sub_metering_2</th>\n",
              "      <th>Sub_metering_3</th>\n",
              "      <th>day</th>\n",
              "      <th>month</th>\n",
              "    </tr>\n",
              "  </thead>\n",
              "  <tbody>\n",
              "    <tr>\n",
              "      <th>0</th>\n",
              "      <td>0.486</td>\n",
              "      <td>0.192</td>\n",
              "      <td>244.90</td>\n",
              "      <td>2.0</td>\n",
              "      <td>0</td>\n",
              "      <td>0</td>\n",
              "      <td>0</td>\n",
              "      <td>16</td>\n",
              "      <td>2</td>\n",
              "    </tr>\n",
              "    <tr>\n",
              "      <th>1</th>\n",
              "      <td>0.154</td>\n",
              "      <td>0.122</td>\n",
              "      <td>240.89</td>\n",
              "      <td>0.8</td>\n",
              "      <td>0</td>\n",
              "      <td>0</td>\n",
              "      <td>0</td>\n",
              "      <td>17</td>\n",
              "      <td>8</td>\n",
              "    </tr>\n",
              "    <tr>\n",
              "      <th>2</th>\n",
              "      <td>1.136</td>\n",
              "      <td>0.136</td>\n",
              "      <td>240.34</td>\n",
              "      <td>4.8</td>\n",
              "      <td>0</td>\n",
              "      <td>2</td>\n",
              "      <td>1</td>\n",
              "      <td>20</td>\n",
              "      <td>5</td>\n",
              "    </tr>\n",
              "    <tr>\n",
              "      <th>3</th>\n",
              "      <td>0.338</td>\n",
              "      <td>0.130</td>\n",
              "      <td>243.90</td>\n",
              "      <td>1.4</td>\n",
              "      <td>0</td>\n",
              "      <td>0</td>\n",
              "      <td>0</td>\n",
              "      <td>2</td>\n",
              "      <td>2</td>\n",
              "    </tr>\n",
              "    <tr>\n",
              "      <th>4</th>\n",
              "      <td>2.460</td>\n",
              "      <td>0.046</td>\n",
              "      <td>241.19</td>\n",
              "      <td>10.2</td>\n",
              "      <td>0</td>\n",
              "      <td>0</td>\n",
              "      <td>18</td>\n",
              "      <td>20</td>\n",
              "      <td>12</td>\n",
              "    </tr>\n",
              "  </tbody>\n",
              "</table>\n",
              "</div>\n",
              "      <button class=\"colab-df-convert\" onclick=\"convertToInteractive('df-39ac965f-8967-4b13-b508-4bc3ae7bd4e6')\"\n",
              "              title=\"Convert this dataframe to an interactive table.\"\n",
              "              style=\"display:none;\">\n",
              "        \n",
              "  <svg xmlns=\"http://www.w3.org/2000/svg\" height=\"24px\"viewBox=\"0 0 24 24\"\n",
              "       width=\"24px\">\n",
              "    <path d=\"M0 0h24v24H0V0z\" fill=\"none\"/>\n",
              "    <path d=\"M18.56 5.44l.94 2.06.94-2.06 2.06-.94-2.06-.94-.94-2.06-.94 2.06-2.06.94zm-11 1L8.5 8.5l.94-2.06 2.06-.94-2.06-.94L8.5 2.5l-.94 2.06-2.06.94zm10 10l.94 2.06.94-2.06 2.06-.94-2.06-.94-.94-2.06-.94 2.06-2.06.94z\"/><path d=\"M17.41 7.96l-1.37-1.37c-.4-.4-.92-.59-1.43-.59-.52 0-1.04.2-1.43.59L10.3 9.45l-7.72 7.72c-.78.78-.78 2.05 0 2.83L4 21.41c.39.39.9.59 1.41.59.51 0 1.02-.2 1.41-.59l7.78-7.78 2.81-2.81c.8-.78.8-2.07 0-2.86zM5.41 20L4 18.59l7.72-7.72 1.47 1.35L5.41 20z\"/>\n",
              "  </svg>\n",
              "      </button>\n",
              "      \n",
              "  <style>\n",
              "    .colab-df-container {\n",
              "      display:flex;\n",
              "      flex-wrap:wrap;\n",
              "      gap: 12px;\n",
              "    }\n",
              "\n",
              "    .colab-df-convert {\n",
              "      background-color: #E8F0FE;\n",
              "      border: none;\n",
              "      border-radius: 50%;\n",
              "      cursor: pointer;\n",
              "      display: none;\n",
              "      fill: #1967D2;\n",
              "      height: 32px;\n",
              "      padding: 0 0 0 0;\n",
              "      width: 32px;\n",
              "    }\n",
              "\n",
              "    .colab-df-convert:hover {\n",
              "      background-color: #E2EBFA;\n",
              "      box-shadow: 0px 1px 2px rgba(60, 64, 67, 0.3), 0px 1px 3px 1px rgba(60, 64, 67, 0.15);\n",
              "      fill: #174EA6;\n",
              "    }\n",
              "\n",
              "    [theme=dark] .colab-df-convert {\n",
              "      background-color: #3B4455;\n",
              "      fill: #D2E3FC;\n",
              "    }\n",
              "\n",
              "    [theme=dark] .colab-df-convert:hover {\n",
              "      background-color: #434B5C;\n",
              "      box-shadow: 0px 1px 3px 1px rgba(0, 0, 0, 0.15);\n",
              "      filter: drop-shadow(0px 1px 2px rgba(0, 0, 0, 0.3));\n",
              "      fill: #FFFFFF;\n",
              "    }\n",
              "  </style>\n",
              "\n",
              "      <script>\n",
              "        const buttonEl =\n",
              "          document.querySelector('#df-39ac965f-8967-4b13-b508-4bc3ae7bd4e6 button.colab-df-convert');\n",
              "        buttonEl.style.display =\n",
              "          google.colab.kernel.accessAllowed ? 'block' : 'none';\n",
              "\n",
              "        async function convertToInteractive(key) {\n",
              "          const element = document.querySelector('#df-39ac965f-8967-4b13-b508-4bc3ae7bd4e6');\n",
              "          const dataTable =\n",
              "            await google.colab.kernel.invokeFunction('convertToInteractive',\n",
              "                                                     [key], {});\n",
              "          if (!dataTable) return;\n",
              "\n",
              "          const docLinkHtml = 'Like what you see? Visit the ' +\n",
              "            '<a target=\"_blank\" href=https://colab.research.google.com/notebooks/data_table.ipynb>data table notebook</a>'\n",
              "            + ' to learn more about interactive tables.';\n",
              "          element.innerHTML = '';\n",
              "          dataTable['output_type'] = 'display_data';\n",
              "          await google.colab.output.renderOutput(dataTable, element);\n",
              "          const docLink = document.createElement('div');\n",
              "          docLink.innerHTML = docLinkHtml;\n",
              "          element.appendChild(docLink);\n",
              "        }\n",
              "      </script>\n",
              "    </div>\n",
              "  </div>\n",
              "  "
            ]
          },
          "metadata": {},
          "execution_count": 122
        }
      ]
    },
    {
      "cell_type": "code",
      "source": [
        "y.head()"
      ],
      "metadata": {
        "id": "XP88hL5Jv-2P",
        "colab": {
          "base_uri": "https://localhost:8080/"
        },
        "outputId": "775af157-c140-429c-b4be-e8fdd871256a"
      },
      "execution_count": null,
      "outputs": [
        {
          "output_type": "execute_result",
          "data": {
            "text/plain": [
              "0     0\n",
              "1     0\n",
              "2     3\n",
              "3     0\n",
              "4    18\n",
              "Name: Total_power_use, dtype: int64"
            ]
          },
          "metadata": {},
          "execution_count": 123
        }
      ]
    },
    {
      "cell_type": "code",
      "source": [
        "### Importt libraries\n",
        "from sklearn.model_selection import train_test_split\n",
        "from sklearn.preprocessing import StandardScaler\n",
        "from sklearn.linear_model import LinearRegression, Lasso, Ridge, ElasticNet\n",
        "from sklearn.svm import SVR\n",
        "from sklearn.metrics import r2_score\n"
      ],
      "metadata": {
        "id": "ZyfVnjnYxNCm"
      },
      "execution_count": null,
      "outputs": []
    },
    {
      "cell_type": "markdown",
      "source": [
        "**Train Test Split**"
      ],
      "metadata": {
        "id": "RC-gwiUJwhmh"
      }
    },
    {
      "cell_type": "code",
      "source": [
        "### random state train test split will be same with all people using random_state=10\n",
        "X_train, X_test, y_train, y_test = train_test_split(X, y, test_size=0.3, random_state=10)\n",
        "print(X_train.shape)\n",
        "print(y_train.shape)\n",
        "print(X_test.shape)\n",
        "print(y_test.shape)"
      ],
      "metadata": {
        "id": "UMh0JafGwVz-",
        "colab": {
          "base_uri": "https://localhost:8080/"
        },
        "outputId": "862dee76-f445-4d18-dbac-acc57126eaa6"
      },
      "execution_count": null,
      "outputs": [
        {
          "output_type": "stream",
          "name": "stdout",
          "text": [
            "(34876, 9)\n",
            "(34876,)\n",
            "(14947, 9)\n",
            "(14947,)\n"
          ]
        }
      ]
    },
    {
      "cell_type": "markdown",
      "source": [
        "**Feature Scaling**"
      ],
      "metadata": {
        "id": "HUDiRmujxwJA"
      }
    },
    {
      "cell_type": "code",
      "source": [
        "from sklearn.preprocessing import StandardScaler\n",
        "scaler=StandardScaler()\n",
        "scaler.fit(X)\n",
        "X=scaler.transform(X)"
      ],
      "metadata": {
        "id": "DLmbSjztxv1R"
      },
      "execution_count": null,
      "outputs": []
    },
    {
      "cell_type": "markdown",
      "source": [
        "# 6. Model Building"
      ],
      "metadata": {
        "id": "ZWyGvC2krt85"
      }
    },
    {
      "cell_type": "markdown",
      "source": [
        "**Linear Regression**"
      ],
      "metadata": {
        "id": "yCEYRkY-y8PN"
      }
    },
    {
      "cell_type": "code",
      "source": [
        "from sklearn.linear_model import LinearRegression\n",
        "#create a model object\n",
        "lm=LinearRegression()\n",
        "\n",
        "#10.b\n",
        "#train the model object\n",
        "lm.fit(X_train,y_train)\n",
        "\n",
        "#10.c\n",
        "#print intercept and coefficients\n",
        "print(lm.intercept_)   #accepts equation parameter\n",
        "print(lm.coef_)"
      ],
      "metadata": {
        "id": "umgUNYA5xBiz",
        "colab": {
          "base_uri": "https://localhost:8080/"
        },
        "outputId": "3ef665a3-ea6e-42d8-ca3a-23786e5aea3c"
      },
      "execution_count": null,
      "outputs": [
        {
          "output_type": "stream",
          "name": "stdout",
          "text": [
            "-6.572520305780927e-14\n",
            "[ 7.00488650e-15 -4.44089210e-15  1.38777878e-16 -1.99840144e-15\n",
            "  1.00000000e+00  1.00000000e+00  1.00000000e+00  9.36371206e-16\n",
            " -4.71844785e-16]\n"
          ]
        }
      ]
    },
    {
      "cell_type": "markdown",
      "source": [
        "**Predict Depending Upon the Model**"
      ],
      "metadata": {
        "id": "g-EXlcvr29fo"
      }
    },
    {
      "cell_type": "code",
      "source": [
        "linear_reg_pred=lm.predict(X_test)\n",
        "linear_reg_pred\n"
      ],
      "metadata": {
        "id": "0BvStJ8bzHbP",
        "colab": {
          "base_uri": "https://localhost:8080/"
        },
        "outputId": "8b6053db-ea98-446d-dcc7-b61ca240f75d"
      },
      "execution_count": null,
      "outputs": [
        {
          "output_type": "execute_result",
          "data": {
            "text/plain": [
              "array([ 1.00000000e+00,  2.00000000e+00, -1.56229208e-14, ...,\n",
              "       -1.32873569e-14,  3.00000000e+00,  1.70000000e+01])"
            ]
          },
          "metadata": {},
          "execution_count": 128
        }
      ]
    },
    {
      "cell_type": "code",
      "source": [
        "r2score_linear_reg=r2_score(y_test, linear_reg_pred)\n",
        "print(\"Our Linear Regression model has {} % accuracy\".format(round(r2score_linear_reg*100,3)))"
      ],
      "metadata": {
        "id": "3FCmJK2wzzuL",
        "colab": {
          "base_uri": "https://localhost:8080/"
        },
        "outputId": "4ddf2d3a-367b-4b04-b005-8b62e0e23e4c"
      },
      "execution_count": null,
      "outputs": [
        {
          "output_type": "stream",
          "name": "stdout",
          "text": [
            "Our Linear Regression model has 100.0 % accuracy\n"
          ]
        }
      ]
    },
    {
      "cell_type": "markdown",
      "source": [
        "**Check r2 Score, Mean Squared Error, Adjusted R Sqaure**"
      ],
      "metadata": {
        "id": "TM3LEq0U3Gxq"
      }
    },
    {
      "cell_type": "code",
      "source": [
        "from sklearn.metrics import r2_score,mean_squared_error   #module name metrics\n",
        "import numpy as np \n",
        "\n",
        "r2=r2_score(y_test,linear_reg_pred)    #y actual,y predic\n",
        "print(\"R-squared:\",r2)\n",
        "\n",
        "rmse=np.sqrt(mean_squared_error(y_test,linear_reg_pred))\n",
        "print(\"RMSE:\",rmse)  \n",
        "\n",
        "adjusted_r_squared = 1 - (1-r2)*(len(y)-1)/(len(y)-X.shape[1]-1)\n",
        "print(\"Adj R-square:\",adjusted_r_squared)"
      ],
      "metadata": {
        "id": "Y_7Hg34a0Kjl",
        "colab": {
          "base_uri": "https://localhost:8080/"
        },
        "outputId": "ba3b53de-7704-4d92-8f06-9f52b2103e3f"
      },
      "execution_count": null,
      "outputs": [
        {
          "output_type": "stream",
          "name": "stdout",
          "text": [
            "R-squared: 1.0\n",
            "RMSE: 3.35235957123725e-14\n",
            "Adj R-square: 1.0\n"
          ]
        }
      ]
    },
    {
      "cell_type": "markdown",
      "source": [
        "**Ridge**"
      ],
      "metadata": {
        "id": "pXAhWusH3Trb"
      }
    },
    {
      "cell_type": "code",
      "source": [
        "from sklearn.linear_model import Ridge\n",
        "lm = Ridge()\n",
        "lm.fit(X_train,y_train)\n",
        "\n",
        "#print intercept and coefficients\n",
        "print (lm.intercept_)\n",
        "print (lm.coef_)"
      ],
      "metadata": {
        "id": "BoBB6BRC1p-J",
        "colab": {
          "base_uri": "https://localhost:8080/"
        },
        "outputId": "6ce3f4ba-a035-4c49-faa3-f5f9c13a8ff3"
      },
      "execution_count": null,
      "outputs": [
        {
          "output_type": "stream",
          "name": "stdout",
          "text": [
            "4.202849161849542e-05\n",
            "[ 2.46148938e-05 -3.19884038e-06 -1.89895586e-07 -2.12803194e-06\n",
            "  9.99998286e-01  9.99998341e-01  9.99998500e-01 -1.36273239e-08\n",
            "  3.08667781e-08]\n"
          ]
        }
      ]
    },
    {
      "cell_type": "code",
      "source": [
        "linear_reg_pred=lm.predict(X_test)\n",
        "linear_reg_pred"
      ],
      "metadata": {
        "id": "tuq_gUU-4qz2",
        "colab": {
          "base_uri": "https://localhost:8080/"
        },
        "outputId": "32cc24dc-e57a-41c9-c439-457649239133"
      },
      "execution_count": null,
      "outputs": [
        {
          "output_type": "execute_result",
          "data": {
            "text/plain": [
              "array([1.00000259e+00, 1.99999688e+00, 6.31815629e-07, ...,\n",
              "       1.31730968e-05, 2.99999555e+00, 1.69999905e+01])"
            ]
          },
          "metadata": {},
          "execution_count": 132
        }
      ]
    },
    {
      "cell_type": "code",
      "source": [
        "from sklearn.metrics import r2_score,mean_squared_error   #module name metrics\n",
        "import numpy as np \n",
        "\n",
        "r2_ridge=r2_score(y_test,linear_reg_pred)    #y actual,y predic\n",
        "print(\"R-squared:\",r2_ridge)\n",
        "\n",
        "rmse=np.sqrt(mean_squared_error(y_test,linear_reg_pred))\n",
        "print(\"RMSE:\",rmse)  \n",
        "\n",
        "adjusted_r_squared = 1 - (1-r2)*(len(y)-1)/(len(y)-X.shape[1]-1)\n",
        "print(\"Adj R-square:\",adjusted_r_squared)"
      ],
      "metadata": {
        "id": "kN9xhS472phG",
        "colab": {
          "base_uri": "https://localhost:8080/"
        },
        "outputId": "b122c27c-2bd2-471e-b263-7e25cd9e9796"
      },
      "execution_count": null,
      "outputs": [
        {
          "output_type": "stream",
          "name": "stdout",
          "text": [
            "R-squared: 0.9999999999992236\n",
            "RMSE: 1.1829815877585682e-05\n",
            "Adj R-square: 1.0\n"
          ]
        }
      ]
    },
    {
      "cell_type": "markdown",
      "source": [
        "**Lasso**"
      ],
      "metadata": {
        "id": "5tNhUZHP3XrY"
      }
    },
    {
      "cell_type": "code",
      "source": [
        "from sklearn.linear_model import Lasso\n",
        "lm = Lasso()\n",
        "lm.fit(X_train,y_train)\n",
        "\n",
        "#print intercept and coefficients\n",
        "print (lm.intercept_)\n",
        "print (lm.coef_)"
      ],
      "metadata": {
        "id": "4mQx4X5T2w08",
        "colab": {
          "base_uri": "https://localhost:8080/"
        },
        "outputId": "63c94b97-c1b6-4769-fd3e-c2952d9503eb"
      },
      "execution_count": null,
      "outputs": [
        {
          "output_type": "stream",
          "name": "stdout",
          "text": [
            "0.1248254211587092\n",
            "[ 0.          0.         -0.          0.          0.97887512  0.97809296\n",
            "  0.98897682 -0.         -0.        ]\n"
          ]
        }
      ]
    },
    {
      "cell_type": "code",
      "source": [
        "linear_reg_pred=lm.predict(X_test)\n",
        "linear_reg_pred"
      ],
      "metadata": {
        "id": "VkNDH1Ge75rk",
        "colab": {
          "base_uri": "https://localhost:8080/"
        },
        "outputId": "8be63a9b-bc8f-4162-b3d3-34516fd3095c"
      },
      "execution_count": null,
      "outputs": [
        {
          "output_type": "execute_result",
          "data": {
            "text/plain": [
              "array([ 1.10291838,  2.0918952 ,  0.12482542, ...,  0.12482542,\n",
              "        3.06998816, 16.93743139])"
            ]
          },
          "metadata": {},
          "execution_count": 135
        }
      ]
    },
    {
      "cell_type": "code",
      "source": [
        "from sklearn.metrics import r2_score,mean_squared_error   #module name metrics\n",
        "import numpy as np \n",
        "\n",
        "r2_lasso=r2_score(y_test,linear_reg_pred)    #y actual,y predic\n",
        "print(\"R-squared:\",r2_lasso)\n",
        "\n",
        "rmse=np.sqrt(mean_squared_error(y_test,linear_reg_pred))\n",
        "print(\"RMSE:\",rmse)  \n",
        "\n",
        "adjusted_r_squared = 1 - (1-r2)*(len(y)-1)/(len(y)-X.shape[1]-1)\n",
        "print(\"Adj R-square:\",adjusted_r_squared)"
      ],
      "metadata": {
        "id": "1X7z0GpW3buc",
        "colab": {
          "base_uri": "https://localhost:8080/"
        },
        "outputId": "10b93444-a0ba-40a5-f93d-663ec6a903b2"
      },
      "execution_count": null,
      "outputs": [
        {
          "output_type": "stream",
          "name": "stdout",
          "text": [
            "R-squared: 0.9996988321865962\n",
            "RMSE: 0.2329961410584697\n",
            "Adj R-square: 1.0\n"
          ]
        }
      ]
    },
    {
      "cell_type": "markdown",
      "source": [
        "# 7. Conclusion"
      ],
      "metadata": {
        "id": "xg3WtQR5rz4L"
      }
    },
    {
      "cell_type": "code",
      "source": [
        "print(\"Accuracy of all the models is as below:\\n\")\n",
        "print(\"Linear Regression: {} %\\nRidge Regression: {} %\\nLasso Regression: {} \".format(round(r2score_linear_reg*100,3),round(r2_ridge*100,3),round(r2_lasso*100,3)))\n",
        "#print(\"Support Vector Regressor: {} %\\n\".format(round(r2score_svr*100,3)))\n",
        "\n",
        "print(\"Best Model is 'Linear Regression' and 'Ridge Regression'\")\n"
      ],
      "metadata": {
        "id": "IG6gFeUK3fxS",
        "colab": {
          "base_uri": "https://localhost:8080/"
        },
        "outputId": "7733b747-d6ba-4f26-ccb8-b7426eb57c96"
      },
      "execution_count": null,
      "outputs": [
        {
          "output_type": "stream",
          "name": "stdout",
          "text": [
            "Accuracy of all the models is as below:\n",
            "\n",
            "Linear Regression: 100.0 %\n",
            "Ridge Regression: 100.0 %\n",
            "Lasso Regression: 99.97 \n",
            "Best Model is 'Linear Regression' and 'Ridge Regression'\n"
          ]
        }
      ]
    },
    {
      "cell_type": "code",
      "source": [],
      "metadata": {
        "id": "wfaK_83D9HS3"
      },
      "execution_count": null,
      "outputs": []
    }
  ]
}